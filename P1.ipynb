{
  "cells": [
    {
      "cell_type": "markdown",
      "metadata": {
        "id": "nrD713VgwE3A"
      },
      "source": [
        "<center>\n",
        "<h1 style=\"font-family:verdana\">\n",
        " 🏘 Sistema de diàleg basat en regles 🏘 <h1>\n",
        "\n",
        "\n",
        "\n",
        "\n",
        "\n",
        "\n"
      ]
    },
    {
      "cell_type": "markdown",
      "metadata": {
        "id": "VOK-8Oq6zpUS"
      },
      "source": [
        "<p>   🎯 <b>Objectiu</b>: en aquesta pràctica aprendrem a crear un assistent senzill de compra d'habitatges. El sistema haurà d'identificar i mostrar les cases que coincideixen amb les preferències de l'usuari. A poc a poc anirem afegint-hi funcionalitats, perquè el sistema siga més complet. </p>\n",
        "\n",
        "<p> ✨ <b>Contingut</b>: en primer lloc, començarem amb un exemple senzill en què el sistema llançarà unes preguntes i respostes predefinides i l'usuari haurà d'escollir. A poc a poc anirem afegint-hi funcionalitats, perquè el sistema siga més complet. </p>\n",
        "\n",
        "✏ <b>Exercicis</b>: en cada secció anireu trobant exercicis que haureu d'anar resolent.\n",
        "\n",
        "---\n",
        "\n",
        "<h2> Índex </h2>\n",
        "\n",
        "\n",
        "1. [Fitxer JSON](#section-one)\n",
        "  * [Exercici 1](#ex-one)\n",
        "2. [Sistema de diàleg senzill](#section-two)\n",
        "  * [Exercici 2](#ex-two)\n",
        "  * [Exercici 3](#ex-three)\n",
        "  * [Exercici 4](#ex-four)\n",
        "3. [Millorem el sistema de diàleg](#section-three)\n",
        "  * [Exercici 5](#ex-five)\n",
        "  * [Exercici 6](#ex-six)\n",
        "4. [Lliurable](#section-four)\n",
        "---\n"
      ]
    },
    {
      "cell_type": "code",
      "execution_count": null,
      "metadata": {
        "colab": {
          "base_uri": "https://localhost:8080/"
        },
        "id": "ZwCGblA9TXNq",
        "outputId": "b20f9fc0-a56c-4de3-e669-db9e1e1b0eed"
      },
      "outputs": [
        {
          "name": "stdout",
          "output_type": "stream",
          "text": [
            "Mounted at /content/drive\n"
          ]
        }
      ],
      "source": [
        "from google.colab import drive\n",
        "drive.mount('/content/drive')"
      ]
    },
    {
      "cell_type": "code",
      "execution_count": null,
      "metadata": {
        "colab": {
          "base_uri": "https://localhost:8080/"
        },
        "id": "IlPoWdgTrQX9",
        "outputId": "752e495a-00ff-4153-91eb-650fc7b27954"
      },
      "outputs": [
        {
          "name": "stderr",
          "output_type": "stream",
          "text": [
            "[nltk_data] Downloading package omw-1.4 to /root/nltk_data...\n",
            "[nltk_data] Downloading package stopwords to /root/nltk_data...\n",
            "[nltk_data]   Unzipping corpora/stopwords.zip.\n",
            "[nltk_data] Downloading package wordnet to /root/nltk_data...\n",
            "[nltk_data] Downloading package punkt to /root/nltk_data...\n",
            "[nltk_data]   Unzipping tokenizers/punkt.zip.\n"
          ]
        }
      ],
      "source": [
        "from nltk.tokenize.treebank import TreebankWordTokenizer\n",
        "import nltk\n",
        "nltk.download('omw-1.4')\n",
        "nltk.download('stopwords')\n",
        "nltk.download('wordnet')\n",
        "nltk.download('punkt')\n",
        "\n",
        "from nltk.corpus import stopwords\n",
        "from nltk.stem.porter import PorterStemmer\n",
        "from nltk.stem import WordNetLemmatizer\n",
        "from nltk.tokenize import TweetTokenizer\n",
        "\n",
        "import json\n",
        "import sys"
      ]
    },
    {
      "cell_type": "markdown",
      "metadata": {
        "id": "Zy3WwD_FPJFW"
      },
      "source": [
        "<h1><a name=\"section-one\"> 1. Fitxer JSON </a></h1>\n",
        "\n",
        "En primer lloc, carregarem el fitxer JSON per analitzar-ne l'estructura."
      ]
    },
    {
      "cell_type": "code",
      "execution_count": null,
      "metadata": {
        "colab": {
          "base_uri": "https://localhost:8080/"
        },
        "id": "kR5ovNENrER1",
        "outputId": "0c6c6211-b87f-4f2a-8d83-2a4e282a89c2"
      },
      "outputs": [
        {
          "name": "stdout",
          "output_type": "stream",
          "text": [
            "Start message:  Welcome to the House Buying Assistant!\n",
            "End message:  Thank you for using the House Buying Assistant. Goodbye!\n",
            "Questions:  [{'question': 'How many bedrooms do you need?', 'type': 'numerical', 'prompt': 'Enter your choice (1 - 5 bedrooms): ', 'answer_key': 'bedrooms'}, {'question': 'How many bathrooms do you need?', 'type': 'numerical', 'prompt': 'Enter your choice (1 - 3 bathrooms): ', 'answer_key': 'bathrooms'}, {'question': 'What is your budget for the house?', 'type': 'numerical', 'prompt': 'Enter your choice (1k - 999k euros):', 'answer_key': 'price'}, {'question': 'How many square meters do you need?', 'type': 'numerical', 'prompt': 'Enter your choice (30 - 200 meters)', 'answer_key': 'square_meters'}, {'question': 'Which city or neighborhood would you prefer?', 'type': 'multichoice', 'prompt': 'Enter your choice', 'answer_key': 'location'}]\n",
            "House:  [{'id': 1, 'type': 'rent', 'bedrooms': '3', 'bathrooms': '2', 'price': '1200', 'square_meters': '100', 'floor': '3', 'elevator': 'Yes', 'commercial_use': 'No', 'terrace': 'No', 'location': 'Santa Coloma de Gramenet'}, {'id': 2, 'type': 'sale', 'bedrooms': '4', 'bathrooms': '2', 'price': '250k', 'square_meters': '120', 'floor': '0', 'elevator': 'No', 'commercial_use': 'Yes', 'terrace': 'Yes', 'location': 'Santa Coloma de Gramenet'}, {'id': 3, 'type': 'rent', 'bedrooms': '2', 'bathrooms': '1', 'price': '800', 'square_meters': '80', 'floor': '8', 'elevator': 'Yes', 'commercial_use': 'No', 'terrace': 'No', 'location': 'Santa Coloma de Gramenet'}, {'id': 4, 'type': 'sale', 'bedrooms': '1', 'bathrooms': '1', 'price': '100k', 'square_meters': '50', 'floor': '1', 'elevator': 'No', 'commercial_use': 'No', 'terrace': 'No', 'location': 'Santa Coloma de Gramenet'}, {'id': 5, 'type': 'rent', 'bedrooms': '1', 'bathrooms': '1', 'price': '650', 'square_meters': '55', 'floor': '2', 'elevator': 'No', 'commercial_use': 'Yes', 'terrace': 'No', 'location': 'Santa Coloma de Gramenet'}, {'id': 6, 'type': 'sale', 'bedrooms': '2', 'bathrooms': '1', 'price': '120k', 'square_meters': '80', 'floor': '4', 'elevator': 'No', 'commercial_use': 'No', 'terrace': 'No', 'location': 'Santa Coloma de Gramenet'}, {'id': 7, 'type': 'rent', 'bedrooms': '5', 'bathrooms': '2', 'price': '2000', 'square_meters': '150', 'floor': '2', 'elevator': 'Yes', 'commercial_use': 'No', 'terrace': 'Yes', 'location': 'Santa Coloma de Gramenet'}, {'id': 8, 'type': 'sale', 'bedrooms': '4', 'bathrooms': '2', 'price': '400k', 'square_meters': '150', 'floor': '5', 'elevator': 'Yes', 'commercial_use': 'Yes', 'terrace': 'Yes', 'location': 'Esplugues de Llobregat'}, {'id': 9, 'type': 'rent', 'bedrooms': '1', 'bathrooms': '1', 'price': '700', 'square_meters': '55', 'floor': '3', 'elevator': 'No', 'commercial_use': 'No', 'terrace': 'Yes', 'location': 'Esplugues de Llobregat'}, {'id': 10, 'type': 'sale', 'bedrooms': '4', 'bathrooms': '3', 'price': '262k', 'square_meters': '75', 'floor': '1', 'elevator': 'Yes', 'commercial_use': 'Yes', 'terrace': 'No', 'location': 'Esplugues de Llobregat'}, {'id': 11, 'type': 'rent', 'bedrooms': '3', 'bathrooms': '1', 'price': '1100', 'square_meters': '60', 'floor': '2', 'elevator': 'No', 'commercial_use': 'No', 'terrace': 'Yes', 'location': 'Esplugues de Llobregat'}, {'id': 12, 'type': 'sale', 'bedrooms': '4', 'bathrooms': '2', 'price': '350k', 'square_meters': '100', 'floor': '6', 'elevator': 'Yes', 'commercial_use': 'Yes', 'terrace': 'Yes', 'location': 'Esplugues de Llobregat'}, {'id': 13, 'type': 'sale', 'bedrooms': '4', 'bathrooms': '2', 'price': '330k', 'square_meters': '150', 'floor': '2', 'elevator': 'Yes', 'commercial_use': 'Yes', 'terrace': 'Yes', 'location': \"L'Hospitalet de Llobregat\"}, {'id': 14, 'type': 'rent', 'bedrooms': '3', 'bathrooms': '1', 'price': '1500', 'square_meters': '100', 'floor': '3', 'elevator': 'No', 'commercial_use': 'No', 'terrace': 'No', 'location': \"L'Hospitalet de Llobregat\"}, {'id': 15, 'type': 'sale', 'bedrooms': '2', 'bathrooms': '1', 'price': '190k', 'square_meters': '75', 'floor': '0', 'elevator': 'No', 'commercial_use': 'Yes', 'terrace': 'Yes', 'location': \"L'Hospitalet de Llobregat\"}, {'id': 16, 'type': 'sale', 'bedrooms': '3', 'bathrooms': '2', 'price': '176k', 'square_meters': '80', 'floor': '1', 'elevator': 'No', 'commercial_use': 'No', 'terrace': 'No', 'location': \"L'Hospitalet de Llobregat\"}, {'id': 17, 'type': 'rent', 'bedrooms': '1', 'bathrooms': '1', 'price': '450', 'square_meters': '45', 'floor': '6', 'elevator': 'No', 'commercial_use': 'No', 'terrace': 'No', 'location': 'Barcelona'}, {'id': 18, 'type': 'rent', 'bedrooms': '1', 'bathrooms': '1', 'price': '850', 'square_meters': '50', 'floor': '4', 'elevator': 'Yes', 'commercial_use': 'No', 'terrace': 'Yes', 'location': 'Barcelona'}, {'id': 19, 'type': 'rent', 'bedrooms': '3', 'bathrooms': '1', 'price': '600', 'square_meters': '75', 'floor': '1', 'elevator': 'No', 'commercial_use': 'Yes', 'terrace': 'Yes', 'location': 'Barcelona'}, {'id': 20, 'type': 'sale', 'bedrooms': '3', 'bathrooms': '2', 'price': '360k', 'square_meters': '90', 'floor': '2', 'elevator': 'No', 'commercial_use': 'No', 'terrace': 'Yes', 'location': 'Barcelona'}, {'id': 21, 'type': 'sale', 'bedrooms': '4', 'bathrooms': '2', 'price': '480k', 'square_meters': '120', 'floor': '3', 'elevator': 'Yes', 'commercial_use': 'Yes', 'terrace': 'Yes', 'location': 'Barcelona'}, {'id': 22, 'type': 'rent', 'bedrooms': '4', 'bathrooms': '2', 'price': '3000', 'square_meters': '100', 'floor': '0', 'elevator': 'No', 'commercial_use': 'Yes', 'terrace': 'No', 'location': 'Barcelona'}, {'id': 23, 'type': 'sale', 'bedrooms': '3', 'bathrooms': '2', 'price': '285k', 'square_meters': '95', 'floor': '1', 'elevator': 'Yes', 'commercial_use': 'No', 'terrace': 'No', 'location': 'Barcelona'}, {'id': 24, 'type': 'sale', 'bedrooms': '1', 'bathrooms': '1', 'price': '200k', 'square_meters': '50', 'floor': '2', 'elevator': 'No', 'commercial_use': 'No', 'terrace': 'Yes', 'location': 'Barcelona'}, {'id': 25, 'type': 'sale', 'bedrooms': '2', 'bathrooms': '1', 'price': '180k', 'square_meters': '60', 'floor': '3', 'elevator': 'No', 'commercial_use': 'Yes', 'terrace': 'No', 'location': 'Barcelona'}]\n"
          ]
        }
      ],
      "source": [
        "with open('/content/drive/MyDrive/3r_1/TVD/P1/dades/house_data.json') as f:\n",
        "  data = json.load(f)\n",
        "\n",
        "print('Start message: ', data['start_message'])\n",
        "print('End message: ', data['end_message'])\n",
        "print('Questions: ', data['questions'])\n",
        "print('House: ', data['houses'])"
      ]
    },
    {
      "cell_type": "markdown",
      "metadata": {
        "id": "44cDB0gnrnCF"
      },
      "source": [
        "Podeu veure com al fitxer JSON podem trobar el missatge de benvinguda i el missatge de comiat. Les diferents preguntes predefinides que el sistema demanarà a l'usuari. I les cases que l'agència té disponibles per a oferir a l'usuari.\n",
        "\n",
        "Si no acabeu d'entendre el format, podeu copiar el contingut del fitxer JSON [aquí](https://jsonviewer.stack.hu/) per visualitzar millor l'estructura."
      ]
    },
    {
      "cell_type": "markdown",
      "metadata": {
        "id": "VY74xa6_PdJ5"
      },
      "source": [
        "---\n",
        "\n",
        "\n",
        "\n",
        " <h1><a name=\"ex-one\"><center> ✏ Exercici 1 ✏</a></h1>\n"
      ]
    },
    {
      "cell_type": "markdown",
      "metadata": {
        "id": "203gq-tFsp3n"
      },
      "source": [
        "En aquest primer exercici us demanem que afegiu una nova casa manualment al fitxer JSON amb l'id 26. La resta de camps els podeu emplenar com vulgueu.\n",
        "\n",
        "Si ho heu fet correctament podreu veure al següent *print* les dades que heu introduït."
      ]
    },
    {
      "cell_type": "code",
      "execution_count": null,
      "metadata": {
        "id": "U83I5GUS9Iic"
      },
      "outputs": [],
      "source": [
        "new = {\n",
        "    \"id\": 26,\n",
        "\t  \"type\":\"sale\",\n",
        "    \"bedrooms\": \"1\",\n",
        "    \"bathrooms\": \"1\",\n",
        "    \"price\": \"100k\",\n",
        "    \"square_meters\": \"50\",\n",
        "\t  \"floor\":\"1\",\n",
        "\t  \"elevator\":\"No\",\n",
        "\t  \"commercial_use\":\"No\",\n",
        "\t  \"terrace\": \"No\",\n",
        "    \"location\": \"Santa Coloma de Gramenet\"\n",
        "}\n",
        "data['houses'].append(new)\n"
      ]
    },
    {
      "cell_type": "code",
      "execution_count": null,
      "metadata": {
        "colab": {
          "base_uri": "https://localhost:8080/"
        },
        "id": "djlcHiwQIRAU",
        "outputId": "5743f96c-2ce1-40ae-9c57-9654afe26a7b"
      },
      "outputs": [
        {
          "name": "stdout",
          "output_type": "stream",
          "text": [
            "House ID: 26\n",
            "Bedrooms: 1\n",
            "Bathrooms: 1\n",
            "Price: 100k\n",
            "Square Meters: 50\n",
            "Location: Santa Coloma de Gramenet\n"
          ]
        }
      ],
      "source": [
        "id = 26\n",
        "house = data['houses'][id-1]\n",
        "\n",
        "print(f\"House ID: {house['id']}\")\n",
        "print(f\"Bedrooms: {house['bedrooms']}\")\n",
        "print(f\"Bathrooms: {house['bathrooms']}\")\n",
        "print(f\"Price: {house['price']}\")\n",
        "print(f\"Square Meters: {house['square_meters']}\")\n",
        "print(f\"Location: {house['location']}\")"
      ]
    },
    {
      "cell_type": "markdown",
      "metadata": {
        "id": "KHihCXXdWvJJ"
      },
      "source": [
        "---"
      ]
    },
    {
      "cell_type": "markdown",
      "metadata": {
        "id": "K1F0NWgvPUdG"
      },
      "source": [
        "<h1><a name=\"section-two\"> 2. Sistema de diàleg senzill </a></h1>\n"
      ]
    },
    {
      "cell_type": "markdown",
      "metadata": {
        "id": "vqkW23xFMzx-"
      },
      "source": [
        "En aquesta primera part crearem un sistema senzill que mostrarà les preguntes predefinides i, a continuació l'usuari haurà d'introduir la resposta. Tractarem de manera diferent les preguntes en què la resposta siga un número i les preguntes d'opció múltiple.\n",
        "\n",
        "Intenteu entendre el funcionament, ja que treballarem sobre aquest codi."
      ]
    },
    {
      "cell_type": "code",
      "execution_count": null,
      "metadata": {
        "colab": {
          "base_uri": "https://localhost:8080/"
        },
        "id": "9B892KaLOG_M",
        "outputId": "cae7fa2c-5ef4-4476-ae0a-9f61641146ae"
      },
      "outputs": [
        {
          "name": "stdout",
          "output_type": "stream",
          "text": [
            "['Vull', 'un', 'pis', 'de', '35k', '€']\n"
          ]
        }
      ],
      "source": [
        "def print_question(prompt, possible_options = []):\n",
        "    print(prompt)\n",
        "    if not len(possible_options) == 0:\n",
        "      print(\"Options:\", \", \".join(possible_options))\n",
        "\n",
        "def initialize_available_options(house_data, available_options):\n",
        "    for house in house_data['houses']:\n",
        "        for key, value in house.items():\n",
        "            available_options.setdefault(key, set()).add(value)\n",
        "\n",
        "def preprocess_answer(answer):\n",
        "    answer = nltk.word_tokenize(answer)\n",
        "    return answer\n",
        "\n",
        "def get_numerical_value(tok_answer):\n",
        "    for token in tok_answer:\n",
        "        if token.isnumeric() or token[:-1].isnumeric():\n",
        "            return token\n",
        "    return ''\n",
        "\n",
        "#Exemple de frase tokenitzada\n",
        "print(preprocess_answer('Vull un pis de 35k €'))"
      ]
    },
    {
      "cell_type": "code",
      "execution_count": null,
      "metadata": {
        "colab": {
          "base_uri": "https://localhost:8080/"
        },
        "id": "-HVQvjfyrbTr",
        "outputId": "95b1dfdd-a769-44a0-9a54-239348288bdd"
      },
      "outputs": [
        {
          "name": "stdout",
          "output_type": "stream",
          "text": [
            "Welcome to the House Buying Assistant!\n",
            "How many bedrooms do you need?\n",
            "Enter your choice (1 - 5 bedrooms): 1\n",
            "How many bathrooms do you need?\n",
            "Enter your choice (1 - 3 bathrooms): 1\n",
            "What is your budget for the house?\n",
            "Enter your choice (1k - 999k euros):1\n",
            "How many square meters do you need?\n",
            "Enter your choice (30 - 200 meters)1\n",
            "Which city or neighborhood would you prefer?\n",
            "Options: Barcelona, Santa Coloma de Gramenet, L'Hospitalet de Llobregat, Esplugues de Llobregat\n",
            "Enter your choiceBarcelona\n"
          ]
        }
      ],
      "source": [
        "def process_numerical_question(question):\n",
        "    #PROBLEMA: QUALSEVOL RESPOSTA NuMèRICA POT SER ACCEPTADA\n",
        "    print_question(question['question'])\n",
        "    while True:\n",
        "      answer = input(question['prompt'])\n",
        "      tok_answer = preprocess_answer(answer)\n",
        "      value = get_numerical_value(tok_answer)\n",
        "      if not value == '':\n",
        "        return value\n",
        "\n",
        "def process_multichoice_question(question, options):\n",
        "    print_question(question['question'], options)\n",
        "    while True:\n",
        "      answer = input(question['prompt'])\n",
        "      if answer in options:\n",
        "        return answer\n",
        "\n",
        "user_preferences, available_options = {}, {}\n",
        "initialize_available_options(data, available_options)\n",
        "\n",
        "print(data['start_message'])\n",
        "for question in data['questions']:\n",
        "  answer_key = question['answer_key']\n",
        "  possible_options = list(available_options.get(answer_key))\n",
        "\n",
        "  if question['type'] == 'numerical':\n",
        "    answer = process_numerical_question(question)\n",
        "  else:\n",
        "    answer = process_multichoice_question(question, possible_options)\n",
        "\n",
        "  user_preferences[answer_key] = answer"
      ]
    },
    {
      "cell_type": "code",
      "execution_count": null,
      "metadata": {
        "colab": {
          "base_uri": "https://localhost:8080/"
        },
        "id": "NEfmAWu5Nxw6",
        "outputId": "bb3c269c-8201-41ec-c1be-400a51d8e27c"
      },
      "outputs": [
        {
          "data": {
            "text/plain": [
              "{'bedrooms': '1',\n",
              " 'bathrooms': '1',\n",
              " 'price': '1',\n",
              " 'square_meters': '1',\n",
              " 'location': 'Barcelona'}"
            ]
          },
          "execution_count": 15,
          "metadata": {},
          "output_type": "execute_result"
        }
      ],
      "source": [
        "user_preferences"
      ]
    },
    {
      "cell_type": "markdown",
      "metadata": {
        "id": "VBLAOYa-6uTG"
      },
      "source": [
        "Tal com es veu, a la pregunta de \"price\" i de \"square_meters\" hem pogut respondre 1, mentre que les respostes haurien d'estar controlades dins d'un rang. Esperem poder modificar la implementació per resoldre aquest problema posteriorment."
      ]
    },
    {
      "cell_type": "markdown",
      "metadata": {
        "id": "YBznMtYjPwAT"
      },
      "source": [
        "\n",
        "\n",
        "---\n",
        "\n",
        "\n",
        " <h1><a name=\"ex-two\"><center> ✏ Exercici 2 ✏ </a></h1>"
      ]
    },
    {
      "cell_type": "markdown",
      "metadata": {
        "id": "H0fcTQe1XlmV"
      },
      "source": [
        "A continuació millorarem un poc el sistema. Us proposem que afegiu la frase de benvinguda que tenim guardada al fitxer JSON. És a dir, abans de mostrar la primera pregunta el sistema ens donarà la benvinguda."
      ]
    },
    {
      "cell_type": "code",
      "execution_count": null,
      "metadata": {
        "id": "gScFQPPDYFy3"
      },
      "outputs": [],
      "source": [
        "#TO DO\n",
        "class Chatbot():\n",
        "      def __init__(self, data):\n",
        "          self.data = data\n",
        "          self.available_options = {}\n",
        "          initialize_available_options(data, self.available_options)\n",
        "\n",
        "      def init(self):\n",
        "          self.user_preferences = {}\n",
        "          # Missatge de benvinguda\n",
        "          print(self.data['start_message'])\n",
        "\n",
        "          for question in self.data['questions']:\n",
        "            answer_key = question['answer_key']\n",
        "            possible_options = list(available_options.get(answer_key))\n",
        "\n",
        "            if question['type'] == 'numerical':\n",
        "              answer = self.process_numerical_question(question)\n",
        "            else:\n",
        "              answer = self.process_multichoice_question(question, possible_options)\n",
        "\n",
        "            self.user_preferences[answer_key] = answer\n",
        "\n",
        "      def process_numerical_question(self, question):\n",
        "          #PROBLEMA: NOMÉS ACCEPTA RESPOSTES EXISTENTS\n",
        "          print_question(question['question'])\n",
        "          while True:\n",
        "            answer = input(question['prompt'])\n",
        "            tok_answer = preprocess_answer(answer)\n",
        "            value = get_numerical_value(tok_answer)\n",
        "            if not value == '' and value in available_options[question[\"answer_key\"]]:\n",
        "              return value\n",
        "\n",
        "      def process_multichoice_question(self, question, options):\n",
        "          print_question(question['question'], options)\n",
        "          while True:\n",
        "            answer = input(question['prompt'])\n",
        "            if answer in options:\n",
        "              return answer"
      ]
    },
    {
      "cell_type": "code",
      "execution_count": null,
      "metadata": {
        "colab": {
          "base_uri": "https://localhost:8080/"
        },
        "id": "qT_tQ3kAAz9C",
        "outputId": "8681603e-4f8d-4b8e-f016-51d6172e731d"
      },
      "outputs": [
        {
          "name": "stdout",
          "output_type": "stream",
          "text": [
            "Welcome to the House Buying Assistant!\n",
            "How many bedrooms do you need?\n",
            "Enter your choice (1 - 5 bedrooms): 1\n",
            "How many bathrooms do you need?\n",
            "Enter your choice (1 - 3 bathrooms): 1\n",
            "What is your budget for the house?\n",
            "Enter your choice (1k - 999k euros):1\n",
            "Enter your choice (1k - 999k euros):1k\n",
            "Enter your choice (1k - 999k euros):120k\n",
            "How many square meters do you need?\n",
            "Enter your choice (30 - 200 meters)80\n",
            "Which city or neighborhood would you prefer?\n",
            "Options: Barcelona, Santa Coloma de Gramenet, L'Hospitalet de Llobregat, Esplugues de Llobregat\n",
            "Enter your choiceBarcelona\n"
          ]
        }
      ],
      "source": [
        "user_1 = Chatbot(data)\n",
        "user_1.init()\n",
        "user_preferences = user_1.user_preferences"
      ]
    },
    {
      "cell_type": "code",
      "execution_count": null,
      "metadata": {
        "colab": {
          "base_uri": "https://localhost:8080/"
        },
        "id": "MyDpM3iiBO6C",
        "outputId": "245f249a-4443-4b7f-8f83-8ed809f06dd8"
      },
      "outputs": [
        {
          "data": {
            "text/plain": [
              "{'bedrooms': '1',\n",
              " 'bathrooms': '1',\n",
              " 'price': '120k',\n",
              " 'square_meters': '80',\n",
              " 'location': 'Barcelona'}"
            ]
          },
          "execution_count": 18,
          "metadata": {},
          "output_type": "execute_result"
        }
      ],
      "source": [
        "user_preferences"
      ]
    },
    {
      "cell_type": "markdown",
      "metadata": {
        "id": "rxMuEJ3C7PO_"
      },
      "source": [
        "Com a objectiu de l'exercici, hem pogut imprimir la frase de benvinguda en inicialitzar la conversació. Per altra banda, hem intentat corregir l'error que hi havia l'exercici 1, ara la resposta de les preguntes numèriques està controlada, però massa controlada per tal de només poder acceptar respostes que són disponibles a les opcions, en lloc de ser un número qualsevol dins del rang. Intentarem també corregir-lo més tard."
      ]
    },
    {
      "cell_type": "markdown",
      "metadata": {
        "id": "_ygcX-SXPy__"
      },
      "source": [
        "---\n",
        "\n",
        "\n",
        " <h1><a name=\"ex-three\"><center> ✏ Exercici 3 ✏ </a></h1>\n",
        "\n",
        "En aquest exercici us demanem que permeteu a l'usuari abandonar el programa quan ho desitge. Per exemple, si l'usuari escriu `quit`, que el sistema s'acomiade amb l'oració de comiat que trobareu al JSON i finalitze el programa.\n",
        "\n",
        "\n",
        "🙃 `sys.exit()` genera una excepció SystemExit."
      ]
    },
    {
      "cell_type": "code",
      "execution_count": null,
      "metadata": {
        "id": "e7gUiHk6EeYc"
      },
      "outputs": [],
      "source": [
        "#TO DO\n",
        "class Chatbot():\n",
        "      def __init__(self, data):\n",
        "          self.data = data\n",
        "          self.available_options = {}\n",
        "          initialize_available_options(data, self.available_options)\n",
        "\n",
        "      def init(self):\n",
        "          self.user_preferences = {}\n",
        "          print(self.data['start_message'])\n",
        "\n",
        "          for question in self.data['questions']:\n",
        "            answer_key = question['answer_key']\n",
        "            possible_options = list(self.available_options.get(answer_key))\n",
        "\n",
        "            if question['type'] == 'numerical':\n",
        "              answer = self.process_numerical_question(question)\n",
        "            else:\n",
        "              answer = self.process_multichoice_question(question, possible_options)\n",
        "\n",
        "            self.user_preferences[answer_key] = answer\n",
        "\n",
        "          print(self.data['end_message'])\n",
        "\n",
        "      def process_numerical_question(self, question):\n",
        "          print_question(question['question'])\n",
        "          while True:\n",
        "            answer = input(question['prompt'])\n",
        "            # Poder finalitzar el programa\n",
        "            if answer.lower() == 'quit':\n",
        "                print(self.data['end_message'])\n",
        "                sys.exit()\n",
        "            else:\n",
        "                tok_answer = preprocess_answer(answer)\n",
        "                value = get_numerical_value(tok_answer)\n",
        "                if not value == '' and value in self.available_options[question[\"answer_key\"]]:\n",
        "                  return value\n",
        "\n",
        "      def process_multichoice_question(self, question, options):\n",
        "          print_question(question['question'], options)\n",
        "          while True:\n",
        "            answer = input(question['prompt'])\n",
        "            # Poder finalitzar el programa\n",
        "            if answer.lower()  == 'quit':\n",
        "                print(self.data['end_message'])\n",
        "                sys.exit()\n",
        "            elif answer in options:\n",
        "                return answer"
      ]
    },
    {
      "cell_type": "code",
      "execution_count": null,
      "metadata": {
        "colab": {
          "base_uri": "https://localhost:8080/",
          "height": 228
        },
        "id": "WwXYJ2nmB_b_",
        "outputId": "c40637ca-0eb4-40c0-f8c0-c26c75153a34"
      },
      "outputs": [
        {
          "name": "stdout",
          "output_type": "stream",
          "text": [
            "Welcome to the House Buying Assistant!\n",
            "How many bedrooms do you need?\n",
            "Enter your choice (1 - 5 bedrooms): 1\n",
            "How many bathrooms do you need?\n",
            "Enter your choice (1 - 3 bathrooms): quit\n",
            "Thank you for using the House Buying Assistant. Goodbye!\n"
          ]
        },
        {
          "ename": "SystemExit",
          "evalue": "",
          "output_type": "error",
          "traceback": [
            "An exception has occurred, use %tb to see the full traceback.\n",
            "\u001b[0;31mSystemExit\u001b[0m\n"
          ]
        },
        {
          "name": "stderr",
          "output_type": "stream",
          "text": [
            "/usr/local/lib/python3.10/dist-packages/IPython/core/interactiveshell.py:3561: UserWarning: To exit: use 'exit', 'quit', or Ctrl-D.\n",
            "  warn(\"To exit: use 'exit', 'quit', or Ctrl-D.\", stacklevel=1)\n"
          ]
        }
      ],
      "source": [
        "user_2 = Chatbot(data)\n",
        "user_2.init()"
      ]
    },
    {
      "cell_type": "markdown",
      "metadata": {
        "id": "6-mx4dwNmthd"
      },
      "source": [
        "Funciona també si escriviu `Quit`?"
      ]
    },
    {
      "cell_type": "markdown",
      "metadata": {
        "id": "oPq52YYnCXrs"
      },
      "source": [
        "Sí, amb answer.lower() es converteix l'entrada de l'usuari en minúscules."
      ]
    },
    {
      "cell_type": "markdown",
      "metadata": {
        "id": "QcOE82F-P1lQ"
      },
      "source": [
        "---\n",
        "\n",
        " <h1><a name=\"ex-four\"><center> ✏ Exercici 4 ✏ </a></h1>"
      ]
    },
    {
      "cell_type": "markdown",
      "metadata": {
        "id": "F-is-nYIZVop"
      },
      "source": [
        "Fins ara tenim a `user_preferences` les opcions que l'usuari ha escollit.\n",
        "\n",
        "\n",
        "\n",
        "\n",
        "\n"
      ]
    },
    {
      "cell_type": "code",
      "execution_count": null,
      "metadata": {
        "colab": {
          "base_uri": "https://localhost:8080/"
        },
        "id": "1GSRF2RiTarQ",
        "outputId": "38e4f684-1ca3-4572-f0d0-ed69d06d1cc9"
      },
      "outputs": [
        {
          "data": {
            "text/plain": [
              "{'bedrooms': '1',\n",
              " 'bathrooms': '1',\n",
              " 'price': '120k',\n",
              " 'square_meters': '80',\n",
              " 'location': 'Barcelona'}"
            ]
          },
          "execution_count": 21,
          "metadata": {},
          "output_type": "execute_result"
        }
      ],
      "source": [
        "user_preferences"
      ]
    },
    {
      "cell_type": "markdown",
      "metadata": {
        "id": "pxX2XqAsMjvq"
      },
      "source": [
        "Per tant, ara haurem de revisar si l'agència disposa d'alguna casa disponible amb aquestes característiques. Per això us proposem completar la funció `find_suitable_houses`. Aquesta funció tornarà una llista amb tants diccionaris com cases disponibles. Per exemple si segons les preferències de l'usuari només està disponible la casa amb id 3, `suitable_house` serà:\n",
        "\n",
        "\n",
        "```\n",
        "[{'id': 3, 'bedrooms': '2', 'bathrooms': '1', 'price': '160k', 'square_meters': '80', 'location': 'Santa Coloma de Gramenet'}]\n",
        "```"
      ]
    },
    {
      "cell_type": "code",
      "execution_count": null,
      "metadata": {
        "id": "j7KxWhw1Ef3G"
      },
      "outputs": [],
      "source": [
        "def convert_into_num(num):\n",
        "    if num[-1].lower() == 'k':\n",
        "        num = float(num[:-1]) * 1000\n",
        "    return int(num)\n",
        "\n",
        "filters= {\n",
        "    'bedrooms': lambda answer, house: int(house) >= int(answer),\n",
        "    'bathrooms': lambda answer, house: int(house) >= int(answer),\n",
        "    'price':lambda answer, house: convert_into_num(house) <= convert_into_num(answer),\n",
        "    'square_meters': lambda answer, house: int(house) >= int(answer),\n",
        "    'location': lambda answer, house: house == answer\n",
        "    }"
      ]
    },
    {
      "cell_type": "code",
      "execution_count": null,
      "metadata": {
        "id": "0GOWOCnuaN5f"
      },
      "outputs": [],
      "source": [
        "#TODO\n",
        "def find_suitable_houses(data, user_preferences):\n",
        "    suitable_houses = []\n",
        "    for house in data['houses']:\n",
        "      if all(filters[key](user_preferences[key], house[key]) for key in user_preferences if key in filters):\n",
        "        filtered_house_info = house\n",
        "        suitable_houses.append(filtered_house_info)\n",
        "    return suitable_houses"
      ]
    },
    {
      "cell_type": "code",
      "execution_count": null,
      "metadata": {
        "colab": {
          "base_uri": "https://localhost:8080/"
        },
        "id": "Lr-CCtEwsqpe",
        "outputId": "6ffd8d2b-0014-46b0-f56e-495977b52867"
      },
      "outputs": [
        {
          "data": {
            "text/plain": [
              "[{'id': 22,\n",
              "  'type': 'rent',\n",
              "  'bedrooms': '4',\n",
              "  'bathrooms': '2',\n",
              "  'price': '3000',\n",
              "  'square_meters': '100',\n",
              "  'floor': '0',\n",
              "  'elevator': 'No',\n",
              "  'commercial_use': 'Yes',\n",
              "  'terrace': 'No',\n",
              "  'location': 'Barcelona'}]"
            ]
          },
          "execution_count": 24,
          "metadata": {},
          "output_type": "execute_result"
        }
      ],
      "source": [
        "find_suitable_houses(data, user_preferences)"
      ]
    },
    {
      "cell_type": "markdown",
      "metadata": {
        "id": "SSGeVF5g-ooD"
      },
      "source": [
        "Hem comprovat manualment, amb unes quantes proves, que el filtratge és correcte."
      ]
    },
    {
      "cell_type": "markdown",
      "metadata": {
        "id": "Fo-4vsc2WIPx"
      },
      "source": [
        "---\n",
        "\n"
      ]
    },
    {
      "cell_type": "markdown",
      "metadata": {
        "id": "EJ08m-3T21eS"
      },
      "source": [
        "Una vegada tingueu la funció `find_suitable_houses` programada, podreu executar el següent *script* que us mostrarà, si n'hi ha, la casa o cases disponibles amb les característiques que heu triat."
      ]
    },
    {
      "cell_type": "code",
      "execution_count": null,
      "metadata": {
        "colab": {
          "base_uri": "https://localhost:8080/"
        },
        "id": "UyT1h1hcakNl",
        "outputId": "3f762c47-9a54-43ec-e244-c72f80f4075b"
      },
      "outputs": [
        {
          "name": "stdout",
          "output_type": "stream",
          "text": [
            "\n",
            "Based on your preferences, the most suitable houses are:\n",
            "House ID: 22\n",
            "Type: rent\n",
            "Bedrooms: 4\n",
            "Bathrooms: 2\n",
            "Price: 3000 euros\n",
            "Square Meters: 100 m^2\n",
            "Location: Barcelona\n",
            "\n"
          ]
        }
      ],
      "source": [
        "def print_suitable_houses(suitable_houses):\n",
        "  if suitable_houses:\n",
        "    print(\"\\nBased on your preferences, the most suitable houses are:\")\n",
        "    for house in suitable_houses:\n",
        "      print(f\"House ID: {house['id']}\")\n",
        "      print(f\"Type: {house['type']}\")\n",
        "      print(\"Bedrooms:\", house['bedrooms'])\n",
        "      print(\"Bathrooms:\", house['bathrooms'])\n",
        "      print(\"Price:\", house['price'], \"euros\")\n",
        "      print(\"Square Meters:\", house['square_meters'], \"m^2\")\n",
        "      print(\"Location:\", house['location'])\n",
        "      print()\n",
        "  else:\n",
        "    print(\"\\nSorry, no suitable houses match your preferences. \\n\")\n",
        "\n",
        "\n",
        "suitable_houses = find_suitable_houses(data, user_preferences)\n",
        "print_suitable_houses(suitable_houses)"
      ]
    },
    {
      "cell_type": "markdown",
      "metadata": {
        "id": "TCiN1L6SP4sU"
      },
      "source": [
        "<h1><a name=\"section-three\"> 3. Millorem el sistema de diàleg </a></h1>\n"
      ]
    },
    {
      "cell_type": "markdown",
      "metadata": {
        "id": "quqFEbxvQEmV"
      },
      "source": [
        "---\n",
        "\n",
        "\n",
        " <h1><a name=\"ex-five\"><center> ✏ Exercici 5 ✏ </a></h1>\n",
        "\n",
        "Tal com haureu comprovat sempre esteu obligats a triar una opció. En aquest últim exercici proposem que afegiu l'opció de no triar-ne cap. És a dir, si ens és igual el nombre d'habitacions, podrem posar per exemple `any` i el sistema ens farà la següent pregunta."
      ]
    },
    {
      "cell_type": "code",
      "execution_count": null,
      "metadata": {
        "id": "t_OJqUoF5NE-"
      },
      "outputs": [],
      "source": [
        "#TO DO\n",
        "class Chatbot():\n",
        "      def __init__(self, data):\n",
        "          self.data = data\n",
        "          self.available_options = {}\n",
        "          initialize_available_options(data, self.available_options)\n",
        "          self.filters = {\n",
        "              'bedrooms': lambda answer, house: int(house) >= int(answer),\n",
        "              'bathrooms': lambda answer, house: int(house) >= int(answer),\n",
        "              'price':lambda answer, house: convert_into_num(house) <= convert_into_num(answer),\n",
        "              'square_meters': lambda answer, house: int(house) >= int(answer),\n",
        "              'location': lambda answer, house: house == answer\n",
        "              }\n",
        "          self.any = []\n",
        "\n",
        "      def init(self):\n",
        "          self.user_preferences = {}\n",
        "          print(self.data['start_message'])\n",
        "\n",
        "          for question in self.data['questions']:\n",
        "            answer_key = question['answer_key']\n",
        "            possible_options = list(self.available_options.get(answer_key))\n",
        "\n",
        "            if question['type'] == 'numerical':\n",
        "              answer = self.process_numerical_question(question)\n",
        "            else:\n",
        "              answer = self.process_multichoice_question(question, possible_options)\n",
        "\n",
        "            self.user_preferences[answer_key] = answer\n",
        "\n",
        "          self.find_suitable_houses()\n",
        "          print_suitable_houses(self.suitable_houses)\n",
        "\n",
        "          print(self.data['end_message'])\n",
        "\n",
        "      def process_numerical_question(self, question):\n",
        "          print_question(question['question'])\n",
        "          while True:\n",
        "            answer = input(question['prompt'])\n",
        "            # Poder finalitzar el programa\n",
        "            if answer.lower() == 'quit':\n",
        "                print(self.data['end_message'])\n",
        "                sys.exit()\n",
        "            # Opció de respondre any\n",
        "            elif answer.lower() == 'any':\n",
        "                self.any.append(question['answer_key'])\n",
        "                return None\n",
        "            else:\n",
        "                tok_answer = preprocess_answer(answer)\n",
        "                value = get_numerical_value(tok_answer)\n",
        "                if not value == '' and value in self.available_options[question[\"answer_key\"]]:\n",
        "                  return value\n",
        "\n",
        "      def process_multichoice_question(self, question, options):\n",
        "          print_question(question['question'], options)\n",
        "          while True:\n",
        "            answer = input(question['prompt'])\n",
        "            # Poder finalitzar el programa\n",
        "            if answer.lower()  == 'quit':\n",
        "                print(self.data['end_message'])\n",
        "                sys.exit()\n",
        "            # Opció de respondre any\n",
        "            elif answer.lower() == 'any':\n",
        "                self.any.append(question['answer_key'])\n",
        "                return None\n",
        "            elif answer in options:\n",
        "                return answer\n",
        "\n",
        "      def find_suitable_houses(self):\n",
        "          self.suitable_houses = []\n",
        "          for house in self.data['houses']:\n",
        "            # Filtrar les keys que estiguin en la llista de any o que compleixin el filtre\n",
        "            if all((key in self.any or self.filters[key](self.user_preferences[key], house[key])) for key in self.user_preferences if key in self.filters):\n",
        "              filtered_house_info = house\n",
        "              self.suitable_houses.append(filtered_house_info)"
      ]
    },
    {
      "cell_type": "code",
      "execution_count": null,
      "metadata": {
        "colab": {
          "base_uri": "https://localhost:8080/"
        },
        "id": "RhkrWFi2NBll",
        "outputId": "f60717aa-6c50-4299-f755-7ae05fab4f77"
      },
      "outputs": [
        {
          "name": "stdout",
          "output_type": "stream",
          "text": [
            "Welcome to the House Buying Assistant!\n",
            "How many bedrooms do you need?\n",
            "Enter your choice (1 - 5 bedrooms): any\n",
            "How many bathrooms do you need?\n",
            "Enter your choice (1 - 3 bathrooms): any\n",
            "What is your budget for the house?\n",
            "Enter your choice (1k - 999k euros):Any\n",
            "How many square meters do you need?\n",
            "Enter your choice (30 - 200 meters)anY\n",
            "Which city or neighborhood would you prefer?\n",
            "Options: Barcelona, Santa Coloma de Gramenet, L'Hospitalet de Llobregat, Esplugues de Llobregat\n",
            "Enter your choiceanY\n",
            "\n",
            "Based on your preferences, the most suitable houses are:\n",
            "House ID: 1\n",
            "Type: rent\n",
            "Bedrooms: 3\n",
            "Bathrooms: 2\n",
            "Price: 1200 euros\n",
            "Square Meters: 100 m^2\n",
            "Location: Santa Coloma de Gramenet\n",
            "\n",
            "House ID: 2\n",
            "Type: sale\n",
            "Bedrooms: 4\n",
            "Bathrooms: 2\n",
            "Price: 250k euros\n",
            "Square Meters: 120 m^2\n",
            "Location: Santa Coloma de Gramenet\n",
            "\n",
            "House ID: 3\n",
            "Type: rent\n",
            "Bedrooms: 2\n",
            "Bathrooms: 1\n",
            "Price: 800 euros\n",
            "Square Meters: 80 m^2\n",
            "Location: Santa Coloma de Gramenet\n",
            "\n",
            "House ID: 4\n",
            "Type: sale\n",
            "Bedrooms: 1\n",
            "Bathrooms: 1\n",
            "Price: 100k euros\n",
            "Square Meters: 50 m^2\n",
            "Location: Santa Coloma de Gramenet\n",
            "\n",
            "House ID: 5\n",
            "Type: rent\n",
            "Bedrooms: 1\n",
            "Bathrooms: 1\n",
            "Price: 650 euros\n",
            "Square Meters: 55 m^2\n",
            "Location: Santa Coloma de Gramenet\n",
            "\n",
            "House ID: 6\n",
            "Type: sale\n",
            "Bedrooms: 2\n",
            "Bathrooms: 1\n",
            "Price: 120k euros\n",
            "Square Meters: 80 m^2\n",
            "Location: Santa Coloma de Gramenet\n",
            "\n",
            "House ID: 7\n",
            "Type: rent\n",
            "Bedrooms: 5\n",
            "Bathrooms: 2\n",
            "Price: 2000 euros\n",
            "Square Meters: 150 m^2\n",
            "Location: Santa Coloma de Gramenet\n",
            "\n",
            "House ID: 8\n",
            "Type: sale\n",
            "Bedrooms: 4\n",
            "Bathrooms: 2\n",
            "Price: 400k euros\n",
            "Square Meters: 150 m^2\n",
            "Location: Esplugues de Llobregat\n",
            "\n",
            "House ID: 9\n",
            "Type: rent\n",
            "Bedrooms: 1\n",
            "Bathrooms: 1\n",
            "Price: 700 euros\n",
            "Square Meters: 55 m^2\n",
            "Location: Esplugues de Llobregat\n",
            "\n",
            "House ID: 10\n",
            "Type: sale\n",
            "Bedrooms: 4\n",
            "Bathrooms: 3\n",
            "Price: 262k euros\n",
            "Square Meters: 75 m^2\n",
            "Location: Esplugues de Llobregat\n",
            "\n",
            "House ID: 11\n",
            "Type: rent\n",
            "Bedrooms: 3\n",
            "Bathrooms: 1\n",
            "Price: 1100 euros\n",
            "Square Meters: 60 m^2\n",
            "Location: Esplugues de Llobregat\n",
            "\n",
            "House ID: 12\n",
            "Type: sale\n",
            "Bedrooms: 4\n",
            "Bathrooms: 2\n",
            "Price: 350k euros\n",
            "Square Meters: 100 m^2\n",
            "Location: Esplugues de Llobregat\n",
            "\n",
            "House ID: 13\n",
            "Type: sale\n",
            "Bedrooms: 4\n",
            "Bathrooms: 2\n",
            "Price: 330k euros\n",
            "Square Meters: 150 m^2\n",
            "Location: L'Hospitalet de Llobregat\n",
            "\n",
            "House ID: 14\n",
            "Type: rent\n",
            "Bedrooms: 3\n",
            "Bathrooms: 1\n",
            "Price: 1500 euros\n",
            "Square Meters: 100 m^2\n",
            "Location: L'Hospitalet de Llobregat\n",
            "\n",
            "House ID: 15\n",
            "Type: sale\n",
            "Bedrooms: 2\n",
            "Bathrooms: 1\n",
            "Price: 190k euros\n",
            "Square Meters: 75 m^2\n",
            "Location: L'Hospitalet de Llobregat\n",
            "\n",
            "House ID: 16\n",
            "Type: sale\n",
            "Bedrooms: 3\n",
            "Bathrooms: 2\n",
            "Price: 176k euros\n",
            "Square Meters: 80 m^2\n",
            "Location: L'Hospitalet de Llobregat\n",
            "\n",
            "House ID: 17\n",
            "Type: rent\n",
            "Bedrooms: 1\n",
            "Bathrooms: 1\n",
            "Price: 450 euros\n",
            "Square Meters: 45 m^2\n",
            "Location: Barcelona\n",
            "\n",
            "House ID: 18\n",
            "Type: rent\n",
            "Bedrooms: 1\n",
            "Bathrooms: 1\n",
            "Price: 850 euros\n",
            "Square Meters: 50 m^2\n",
            "Location: Barcelona\n",
            "\n",
            "House ID: 19\n",
            "Type: rent\n",
            "Bedrooms: 3\n",
            "Bathrooms: 1\n",
            "Price: 600 euros\n",
            "Square Meters: 75 m^2\n",
            "Location: Barcelona\n",
            "\n",
            "House ID: 20\n",
            "Type: sale\n",
            "Bedrooms: 3\n",
            "Bathrooms: 2\n",
            "Price: 360k euros\n",
            "Square Meters: 90 m^2\n",
            "Location: Barcelona\n",
            "\n",
            "House ID: 21\n",
            "Type: sale\n",
            "Bedrooms: 4\n",
            "Bathrooms: 2\n",
            "Price: 480k euros\n",
            "Square Meters: 120 m^2\n",
            "Location: Barcelona\n",
            "\n",
            "House ID: 22\n",
            "Type: rent\n",
            "Bedrooms: 4\n",
            "Bathrooms: 2\n",
            "Price: 3000 euros\n",
            "Square Meters: 100 m^2\n",
            "Location: Barcelona\n",
            "\n",
            "House ID: 23\n",
            "Type: sale\n",
            "Bedrooms: 3\n",
            "Bathrooms: 2\n",
            "Price: 285k euros\n",
            "Square Meters: 95 m^2\n",
            "Location: Barcelona\n",
            "\n",
            "House ID: 24\n",
            "Type: sale\n",
            "Bedrooms: 1\n",
            "Bathrooms: 1\n",
            "Price: 200k euros\n",
            "Square Meters: 50 m^2\n",
            "Location: Barcelona\n",
            "\n",
            "House ID: 25\n",
            "Type: sale\n",
            "Bedrooms: 2\n",
            "Bathrooms: 1\n",
            "Price: 180k euros\n",
            "Square Meters: 60 m^2\n",
            "Location: Barcelona\n",
            "\n",
            "House ID: 26\n",
            "Type: sale\n",
            "Bedrooms: 1\n",
            "Bathrooms: 1\n",
            "Price: 100k euros\n",
            "Square Meters: 50 m^2\n",
            "Location: Santa Coloma de Gramenet\n",
            "\n",
            "Thank you for using the House Buying Assistant. Goodbye!\n"
          ]
        }
      ],
      "source": [
        "user_3 = Chatbot(data)\n",
        "user_3.init()"
      ]
    },
    {
      "cell_type": "markdown",
      "metadata": {
        "id": "6wP9PsI0tLKd"
      },
      "source": [
        "---\n",
        "\n",
        "\n",
        "\n",
        " <h1><a name=\"ex-six\"><center> ✏ Exercici 6 ✏ </a></h1>\n",
        "\n",
        "Amplieu el vostre xatbot perquè tinga en compte la següent informació sobre:\n",
        "\n",
        "1. **Tipus d'habitatge:** Pregunteu a l'usuari si vol una casa per a compra (tipus *\"sale\"* a les dades) o per llogar (tipus *\"rent\"*). Al final de l'execució, el sistema haurá de mostrar habitatges amb el tipus seleccionat.\n",
        "\n",
        "2. **Ingressos:** S'aconsella no dedicar més del 35% dels ingressos a l'habitatge. En cas d'escollir lloguer, preguntar a l'usuari els ingressos mensuals de la seua llar, i només mostrar aquells que estiguen per sota del 35%.\n",
        "\n",
        "3. **Planta:** Preguntar als usuaris a quina planta volen viure. Al final de l'execució, només s'oferiràn habitatges que estiguen en aquella planta o superior.\n",
        "\n",
        "4. **Terrassa:** Preguntar a l'usuari si vol un habitatge amb terrassa o no. En cas de voler terrassa, només s'oferiran habitatges amb terrassa. En cas contrari, oferir habitatges amb terrassa o sense.\n",
        "\n",
        "5. **Ascensor:** Preguntar a l'usuari si vol un habitatge amb ascensor o no. En cas de voler ascensor, només s'oferiran habitatges amb ascensor. En cas contrari, oferir habitatges amb ascensor o sense.\n",
        "\n",
        "6. **Us comercial:** Preguntar a l'usuari si vol fer servir l'habitatge com a negoci. En cas afirmatiu, només oferir habitatges amb la propietat *\"commercial use\"*\n",
        "\n",
        "---\n",
        "\n",
        "\n",
        "\n"
      ]
    },
    {
      "cell_type": "code",
      "execution_count": null,
      "metadata": {
        "id": "Z6nEdGF2uUTp"
      },
      "outputs": [],
      "source": [
        "def print_suitable_houses(suitable_houses):\n",
        "    if suitable_houses:\n",
        "        print(\"\\nBased on your preferences, the most suitable houses are:\")\n",
        "        for house in suitable_houses:\n",
        "            print(f\"House ID: {house['id']}\")\n",
        "            print(f\"Type: {house['type']}\")\n",
        "            print(\"Bedrooms:\", house['bedrooms'])\n",
        "            print(\"Bathrooms:\", house['bathrooms'])\n",
        "            print(\"Price:\", house['price'], \"euros\")\n",
        "            print(\"Square Meters:\", house['square_meters'], \"m^2\")\n",
        "            print(\"Floor:\", house['floor'], \"º\")\n",
        "            print(\"Elevator:\", house['elevator'])\n",
        "            print(\"Commercial Use:\", house['commercial_use'])\n",
        "            print(\"Terrace:\", house['terrace'])\n",
        "            print(\"Location:\", house['location'])\n",
        "            print()\n",
        "    else:\n",
        "        print(\"\\nSorry, no suitable houses match your preferences. \\n\")"
      ]
    },
    {
      "cell_type": "code",
      "execution_count": null,
      "metadata": {
        "id": "74Z7Ouc4E7os"
      },
      "outputs": [],
      "source": [
        "#TO DO\n",
        "class Chatbot():\n",
        "      def __init__(self, data):\n",
        "          self.data = data\n",
        "          self.available_options = {}\n",
        "          initialize_available_options(data, self.available_options)\n",
        "          self.filters = {\n",
        "              'type': lambda answer, house: house == answer,\n",
        "              'bedrooms': lambda answer, house: int(house) >= int(answer),\n",
        "              'bathrooms': lambda answer, house: int(house) >= int(answer),\n",
        "              'price':lambda answer, house: convert_into_num(house) <= convert_into_num(answer) and \\\n",
        "                                              (convert_into_num(house) <= convert_into_num(self.user_preferences['income'])*0.35 \\\n",
        "                                                if self.house_type == 'rent' else True),\n",
        "              'square_meters': lambda answer, house: int(house) >= int(answer),\n",
        "              'floor': lambda answer, house: int(house) >= int(answer),\n",
        "              'elevator': lambda answer, house: house == answer or answer == \"No\",\n",
        "              'commercial_use': lambda answer, house: house == answer or answer == \"No\",\n",
        "              'terrace': lambda answer, house: house == answer or answer == \"No\",\n",
        "              'location': lambda answer, house: house == answer\n",
        "              }\n",
        "          self.any = []\n",
        "\n",
        "      def init(self):\n",
        "          self.user_preferences = {}\n",
        "          print(self.data['start_message'])\n",
        "\n",
        "          for question in self.data['questions']:\n",
        "            answer_key = question['answer_key']\n",
        "            if (answer_key != 'income'):\n",
        "              possible_options = list(self.available_options.get(answer_key))\n",
        "\n",
        "            if question['type'] == 'numerical':\n",
        "              if (answer_key != 'income') or \\\n",
        "               (answer_key == 'income' and self.user_preferences['type'] != 'sale' ):\n",
        "                answer = self.process_numerical_question(question)\n",
        "            else:\n",
        "              answer = self.process_multichoice_question(question, possible_options)\n",
        "\n",
        "            self.user_preferences[answer_key] = answer\n",
        "\n",
        "          self.find_suitable_houses()\n",
        "          print_suitable_houses(self.suitable_houses)\n",
        "\n",
        "          print(self.data['end_message'])\n",
        "\n",
        "      def process_numerical_question(self, question):\n",
        "          print_question(question['question'])\n",
        "          while True:\n",
        "            answer = input(question['prompt'])\n",
        "            # Poder finalitzar el programa\n",
        "            if answer.lower() == 'quit':\n",
        "                print(self.data['end_message'])\n",
        "                sys.exit()\n",
        "            # Opció de respondre any\n",
        "            elif answer.lower() == 'any':\n",
        "                self.any.append(question['answer_key'])\n",
        "                return None\n",
        "            else:\n",
        "                tok_answer = preprocess_answer(answer)\n",
        "                value = get_numerical_value(tok_answer)\n",
        "                #Canviem de nou aquesta condició perquè sinó pot donar errors per la clau de 'income'\n",
        "                if not value == '':\n",
        "                  return value\n",
        "\n",
        "      def process_multichoice_question(self, question, options):\n",
        "          print_question(question['question'], options)\n",
        "          while True:\n",
        "            answer = input(question['prompt'])\n",
        "            # Poder finalitzar el programa\n",
        "            if answer.lower()  == 'quit':\n",
        "                print(self.data['end_message'])\n",
        "                sys.exit()\n",
        "            # Opció de respondre any\n",
        "            elif answer.lower() == 'any':\n",
        "                self.any.append(question['answer_key'])\n",
        "                return None\n",
        "            elif answer in options:\n",
        "                return answer\n",
        "\n",
        "      def find_suitable_houses(self):\n",
        "          self.suitable_houses = []\n",
        "          for house in self.data['houses']:\n",
        "            self.house_type = house['type']\n",
        "            # Filtrar les keys que estiguin en la llista de any o que compleixin el filtre\n",
        "            if all((key in self.any or self.filters[key](self.user_preferences[key], house[key])) for key in self.user_preferences if key in self.filters):\n",
        "              filtered_house_info = house\n",
        "              self.suitable_houses.append(filtered_house_info)"
      ]
    },
    {
      "cell_type": "code",
      "execution_count": null,
      "metadata": {
        "colab": {
          "base_uri": "https://localhost:8080/"
        },
        "id": "yLvV1UB_NCt3",
        "outputId": "cf8d63d8-07b7-425b-fdc0-1bd3d1ffff63"
      },
      "outputs": [
        {
          "name": "stdout",
          "output_type": "stream",
          "text": [
            "Welcome to the House Buying Assistant!\n",
            "Do you want a house to buy or to rent?\n",
            "Options: rent, sale\n",
            "Enter your choice: rent\n",
            "What is your household's total monthly income?\n",
            "Enter your choice (1k - 999k euros): 3k\n",
            "How many bedrooms do you need?\n",
            "Enter your choice (1 - 5 bedrooms): 1\n",
            "How many bathrooms do you need?\n",
            "Enter your choice (1 - 3 bathrooms): 2\n",
            "What is your budget for the house?\n",
            "Enter your choice (1k - 999k euros): 1k\n",
            "How many square meters do you need?\n",
            "Enter your choice (30 - 200 meters): 30\n",
            "On which floor would you like to live?\n",
            "Enter your choice (0 - 8): 0\n",
            "Is it important for the property to have an elevator?\n",
            "Options: Yes, No\n",
            "Enter your choice: No\n",
            "Do you want to use the property for business purposes?\n",
            "Options: No, Yes\n",
            "Enter your choice: No\n",
            "Would you like the property to have a terrace?\n",
            "Options: No, Yes\n",
            "Enter your choice: Yes\n",
            "Which city or neighborhood would you prefer?\n",
            "Options: Barcelona, Santa Coloma de Gramenet, L'Hospitalet de Llobregat, Esplugues de Llobregat\n",
            "Enter your choice: Barcelona\n",
            "\n",
            "Sorry, no suitable houses match your preferences. \n",
            "\n",
            "Thank you for using the House Buying Assistant. Goodbye!\n"
          ]
        }
      ],
      "source": [
        "with open('/content/drive/MyDrive/3r_1/TVD/P1/dades/house_data_new.json') as f:\n",
        "  new_data = json.load(f)\n",
        "user_3 = Chatbot(new_data)\n",
        "user_3.init()"
      ]
    },
    {
      "cell_type": "code",
      "execution_count": null,
      "metadata": {
        "colab": {
          "base_uri": "https://localhost:8080/"
        },
        "id": "P0jvJZn5TBU7",
        "outputId": "357e31dd-c545-44fd-a54d-a76dffa3dd1b"
      },
      "outputs": [
        {
          "data": {
            "text/plain": [
              "{'type': 'rent',\n",
              " 'income': '3k',\n",
              " 'bedrooms': '1',\n",
              " 'bathrooms': '2',\n",
              " 'price': '1k',\n",
              " 'square_meters': '30',\n",
              " 'floor': '0',\n",
              " 'elevator': 'No',\n",
              " 'commercial_use': 'No',\n",
              " 'terrace': 'Yes',\n",
              " 'location': 'Barcelona'}"
            ]
          },
          "execution_count": 31,
          "metadata": {},
          "output_type": "execute_result"
        }
      ],
      "source": [
        "user_3.user_preferences"
      ]
    },
    {
      "cell_type": "markdown",
      "metadata": {
        "id": "AwPm38lDDGNB"
      },
      "source": [
        " <h1><a name=\"ex-seven\"><center> ✏ Exercici 7 ✏ </a></h1>\n",
        "\n",
        "Ara ja teniu un sistema funcional. Aplicant el mètode vist a classe (Exemples, Camins, Prototipat i Proves) milloreu aquest sistema per donar una millor experiència als usuaris."
      ]
    },
    {
      "cell_type": "code",
      "execution_count": null,
      "metadata": {
        "colab": {
          "base_uri": "https://localhost:8080/",
          "height": 263
        },
        "id": "Ru2boM4C_WRb",
        "outputId": "06fe68ee-9828-479f-b6dc-a8ae5b0afb9e"
      },
      "outputs": [
        {
          "name": "stdout",
          "output_type": "stream",
          "text": [
            "Welcome to the House Buying Assistant!\n",
            "Do you want a house to buy or to rent?\n",
            "Options: rent, sale\n",
            "Enter your choice: I want a house to rent\n",
            "Enter your choice: rent\n",
            "What is your household's total monthly income?\n",
            "Enter your choice (1k - 999k euros): 3k aprox.\n",
            "How many bedrooms do you need?\n",
            "Enter your choice (1 - 5 bedrooms): quit\n",
            "Thank you for using the House Buying Assistant. Goodbye!\n"
          ]
        },
        {
          "ename": "SystemExit",
          "evalue": "",
          "output_type": "error",
          "traceback": [
            "An exception has occurred, use %tb to see the full traceback.\n",
            "\u001b[0;31mSystemExit\u001b[0m\n"
          ]
        }
      ],
      "source": [
        "user_4 = Chatbot(new_data)\n",
        "user_4.init()"
      ]
    },
    {
      "cell_type": "code",
      "execution_count": null,
      "metadata": {
        "id": "bjPnQRLRuUTr"
      },
      "outputs": [],
      "source": [
        "#Problema 1: L'usuari pot donar una resposta llarga de manera que el sistema la interpreti malament.\n",
        "#Solució 1: Introduir models de reconeixement de llenguatge natural més intel·ligents.\n",
        "#Solució 2: Avisar a l'usuari que la resposta sigui curta i clara.\n",
        "\n",
        "def init(self):\n",
        "    self.user_preferences = {}\n",
        "    print(self.data['start_message'])\n",
        "    print('For each question, I am going to offer you the available options.')\n",
        "    print('Ensure that your answer is short and clear, please!')\n",
        "    print('You can always answer QUIT to quit the conversation or ANY to include all possibilities.')\n",
        "\n",
        "    for question in self.data['questions']:\n",
        "        answer_key = question['answer_key']\n",
        "        if (answer_key != 'income'):\n",
        "            possible_options = list(self.available_options.get(answer_key))\n",
        "\n",
        "        if question['type'] == 'numerical':\n",
        "            if (answer_key != 'income') or \\\n",
        "            (answer_key == 'income' and self.user_preferences['type'] != 'sale' ):\n",
        "                answer = self.process_numerical_question(question)\n",
        "        else:\n",
        "            answer = self.process_multichoice_question(question, possible_options)\n",
        "\n",
        "        self.user_preferences[answer_key] = answer\n",
        "\n",
        "    self.find_suitable_houses()\n",
        "    print_suitable_houses(self.suitable_houses)\n",
        "\n",
        "    print(self.data['end_message'])\n",
        "\n",
        "Chatbot.init = init"
      ]
    },
    {
      "cell_type": "code",
      "execution_count": null,
      "metadata": {
        "colab": {
          "base_uri": "https://localhost:8080/",
          "height": 228
        },
        "id": "2tq6JUa2_9Bd",
        "outputId": "85d16c94-a6f3-4f36-fbe4-ea3178685779"
      },
      "outputs": [
        {
          "name": "stdout",
          "output_type": "stream",
          "text": [
            "Welcome to the House Buying Assistant!\n",
            "For each question, I am going to offer you the available options.\n",
            "Ensure that your answer is short and clear, please!\n",
            "You can always answer QUIT to quit the conversation or ANY to include all possibilities.\n",
            "Do you want a house to buy or to rent?\n",
            "Options: rent, sale\n",
            "Enter your choice: quit\n",
            "Thank you for using the House Buying Assistant. Goodbye!\n"
          ]
        },
        {
          "ename": "SystemExit",
          "evalue": "",
          "output_type": "error",
          "traceback": [
            "An exception has occurred, use %tb to see the full traceback.\n",
            "\u001b[0;31mSystemExit\u001b[0m\n"
          ]
        }
      ],
      "source": [
        "user_4 = Chatbot(new_data)\n",
        "user_4.init()"
      ]
    },
    {
      "cell_type": "markdown",
      "metadata": {
        "id": "DnH6na--AQQI"
      },
      "source": [
        "Veiem que en inicialitzar la conversació es fa un avís a l'usuari per dir-li que ha de respondre de forma clara i curta."
      ]
    },
    {
      "cell_type": "code",
      "execution_count": null,
      "metadata": {
        "colab": {
          "base_uri": "https://localhost:8080/",
          "height": 297
        },
        "id": "ZCTAVOmeAcku",
        "outputId": "e37c737c-f250-447e-a577-bfd7a523ade1"
      },
      "outputs": [
        {
          "name": "stdout",
          "output_type": "stream",
          "text": [
            "Welcome to the House Buying Assistant!\n",
            "For each question, I am going to offer you the available options.\n",
            "Ensure that your answer is short and clear, please!\n",
            "You can always answer QUIT to quit the conversation or ANY to include all possibilities.\n",
            "Do you want a house to buy or to rent?\n",
            "Options: rent, sale\n",
            "Enter your choice: rent\n",
            "What is your household's total monthly income?\n",
            "Enter your choice (1k - 999k euros): 1\n",
            "How many bedrooms do you need?\n",
            "Enter your choice (1 - 5 bedrooms): quit\n",
            "Thank you for using the House Buying Assistant. Goodbye!\n"
          ]
        },
        {
          "ename": "SystemExit",
          "evalue": "",
          "output_type": "error",
          "traceback": [
            "An exception has occurred, use %tb to see the full traceback.\n",
            "\u001b[0;31mSystemExit\u001b[0m\n"
          ]
        }
      ],
      "source": [
        "user_4 = Chatbot(new_data)\n",
        "user_4.init()"
      ]
    },
    {
      "cell_type": "code",
      "execution_count": null,
      "metadata": {
        "id": "5S1Kjc_buUTr"
      },
      "outputs": [],
      "source": [
        "#Problema 2: Per a les preguntes numèriques, la resposta no està controlada dins d'un rang.\n",
        "#Solució: Afegir condicions de verificació.\n",
        "def extract_range(oracion):\n",
        "    #Precondició: l'oració ha de contenir 2 números que representen un rang.\n",
        "    tokens = preprocess_answer(oracion)\n",
        "    numeros = [int(convert_into_num(token)) for token in tokens if token.isnumeric() or token[:-1].isnumeric()]\n",
        "    return range(numeros[0], numeros[1]+1)\n",
        "\n",
        "def process_numerical_question(self, question):\n",
        "    print_question(question['question'])\n",
        "    while True:\n",
        "        answer = input(question['prompt'])\n",
        "        range = extract_range(question['prompt'])\n",
        "        # Poder finalitzar el programa\n",
        "        if answer.lower() == 'quit':\n",
        "            print(self.data['end_message'])\n",
        "            sys.exit()\n",
        "        # Opció de respondre any\n",
        "        elif answer.lower() == 'any':\n",
        "            self.any.append(question['answer_key'])\n",
        "            return None\n",
        "        else:\n",
        "            tok_answer = preprocess_answer(answer)\n",
        "            value = get_numerical_value(tok_answer)\n",
        "            if value != '' and convert_into_num(value) in range:\n",
        "                return value\n",
        "\n",
        "Chatbot.process_numerical_question = process_numerical_question"
      ]
    },
    {
      "cell_type": "code",
      "execution_count": null,
      "metadata": {
        "colab": {
          "base_uri": "https://localhost:8080/",
          "height": 419
        },
        "id": "mH3ohbnIBC1i",
        "outputId": "84fa2a76-f91d-45d7-a80a-1f8c10147355"
      },
      "outputs": [
        {
          "name": "stdout",
          "output_type": "stream",
          "text": [
            "Welcome to the House Buying Assistant!\n",
            "For each question, I am going to offer you the available options.\n",
            "Ensure that your answer is short and clear, please!\n",
            "You can always answer QUIT to quit the conversation or ANY to include all possibilities.\n",
            "Do you want a house to buy or to rent?\n",
            "Options: rent, sale\n",
            "Enter your choice: rent\n",
            "What is your household's total monthly income?\n",
            "Enter your choice (1k - 999k euros): 1\n",
            "Enter your choice (1k - 999k euros): 100\n",
            "Enter your choice (1k - 999k euros): 999\n",
            "Enter your choice (1k - 999k euros): 1k\n",
            "How many bedrooms do you need?\n",
            "Enter your choice (1 - 5 bedrooms): 0\n",
            "Enter your choice (1 - 5 bedrooms): 6\n",
            "Enter your choice (1 - 5 bedrooms): 3\n",
            "How many bathrooms do you need?\n",
            "Enter your choice (1 - 3 bathrooms): quit\n",
            "Thank you for using the House Buying Assistant. Goodbye!\n"
          ]
        },
        {
          "ename": "SystemExit",
          "evalue": "",
          "output_type": "error",
          "traceback": [
            "An exception has occurred, use %tb to see the full traceback.\n",
            "\u001b[0;31mSystemExit\u001b[0m\n"
          ]
        }
      ],
      "source": [
        "user_4 = Chatbot(new_data)\n",
        "user_4.init()"
      ]
    },
    {
      "cell_type": "code",
      "execution_count": null,
      "metadata": {
        "colab": {
          "base_uri": "https://localhost:8080/",
          "height": 679
        },
        "id": "6LnM56e9BM77",
        "outputId": "5ab48bed-8947-430e-ceb2-c3cff4232b1a"
      },
      "outputs": [
        {
          "name": "stdout",
          "output_type": "stream",
          "text": [
            "Welcome to the House Buying Assistant!\n",
            "For each question, I am going to offer you the available options.\n",
            "Ensure that your answer is short and clear, please!\n",
            "You can always answer QUIT to quit the conversation or ANY to include all possibilities.\n",
            "Do you want a house to buy or to rent?\n",
            "Options: rent, sale\n",
            "Enter your choice: any\n",
            "What is your household's total monthly income?\n",
            "Enter your choice (1k - 999k euros): any\n",
            "How many bedrooms do you need?\n",
            "Enter your choice (1 - 5 bedrooms): any\n",
            "How many bathrooms do you need?\n",
            "Enter your choice (1 - 3 bathrooms): any\n",
            "What is your budget for the house?\n",
            "Enter your choice (1k - 999k euros): any\n",
            "How many square meters do you need?\n",
            "Enter your choice (30 - 200 meters): any\n",
            "On which floor would you like to live?\n",
            "Enter your choice (0 - 8): any\n",
            "Is it important for the property to have an elevator?\n",
            "Options: Yes, No\n",
            "Enter your choice: any\n",
            "Do you want to use the property for business purposes?\n",
            "Options: No, Yes\n",
            "Enter your choice: any\n",
            "Would you like the property to have a terrace?\n",
            "Options: No, Yes\n",
            "Enter your choice: any\n",
            "Which city or neighborhood would you prefer?\n",
            "Options: Barcelona, Santa Coloma de Gramenet, L'Hospitalet de Llobregat, Esplugues de Llobregat\n",
            "Enter your choice: Barcelona or Santa Coloma de Gramenet\n",
            "Enter your choice: I would like to like in Barcelona.\n",
            "Enter your choice: quit\n",
            "Thank you for using the House Buying Assistant. Goodbye!\n"
          ]
        },
        {
          "ename": "SystemExit",
          "evalue": "",
          "output_type": "error",
          "traceback": [
            "An exception has occurred, use %tb to see the full traceback.\n",
            "\u001b[0;31mSystemExit\u001b[0m\n"
          ]
        }
      ],
      "source": [
        "user_4 = Chatbot(new_data)\n",
        "user_4.init()"
      ]
    },
    {
      "cell_type": "code",
      "execution_count": 62,
      "metadata": {
        "id": "MgyQqeVJuUTr"
      },
      "outputs": [],
      "source": [
        "#Problema 3: Per a les preguntes categòriques amb més de 2 opcions, l'usuari només pot seleccionar o bé una o bé totes les opcions.\n",
        "#Solució: Crear noves regles que permeti donar més opcions.\n",
        "def extract_answers(oracion, options):\n",
        "    #Precondició: S'espera que l'oració contingui les opcions, sinó retorna un conjunt buit\n",
        "    answer= set()\n",
        "    oracion_set = preprocess_answer(oracion)\n",
        "\n",
        "    for option in options:\n",
        "      option_set = set(option.split())\n",
        "\n",
        "      if option_set.issubset(oracion_set):\n",
        "        answer = answer.union(set([option]))\n",
        "    return answer\n",
        "\n",
        "def process_multichoice_question(self, question, options):\n",
        "    print_question(question['question'], options)\n",
        "    while True:\n",
        "        answer = input(question['prompt'])\n",
        "        # Poder finalitzar el programa\n",
        "        if answer.lower()  == 'quit':\n",
        "            print(self.data['end_message'])\n",
        "            sys.exit()\n",
        "        # Opció de respondre any\n",
        "        elif answer.lower() == 'any':\n",
        "            self.any.append(question['answer_key'])\n",
        "            return None\n",
        "        elif len(extract_answers(answer, options)) > 0:\n",
        "            return extract_answers(answer, options)\n",
        "\n",
        "def __init__(self, data):\n",
        "    self.data = data\n",
        "    self.available_options = {}\n",
        "    initialize_available_options(data, self.available_options)\n",
        "    self.filters = {\n",
        "        'type': lambda answer, house: house in answer,\n",
        "        'bedrooms': lambda answer, house: int(house) >= int(answer),\n",
        "        'bathrooms': lambda answer, house: int(house) >= int(answer),\n",
        "        'price':lambda answer, house: convert_into_num(house) <= convert_into_num(answer) and \\\n",
        "                                        (convert_into_num(house) <= convert_into_num(self.user_preferences['income'])*0.35 \\\n",
        "                                        if self.house_type == 'rent' else True),\n",
        "        'square_meters': lambda answer, house: int(house) >= int(answer),\n",
        "        'floor': lambda answer, house: int(house) >= int(answer),\n",
        "        'elevator': lambda answer, house: house in answer or \"No\" in answer,\n",
        "        'commercial_use': lambda answer, house: house in answer or \"No\" in answer,\n",
        "        'terrace': lambda answer, house: house in answer or \"No\" in answer,\n",
        "        'location': lambda answer, house: house in answer\n",
        "        }\n",
        "    self.any = []\n",
        "\n",
        "Chatbot.__init__ = __init__\n",
        "Chatbot.process_multichoice_question = process_multichoice_question"
      ]
    },
    {
      "cell_type": "code",
      "execution_count": 54,
      "metadata": {
        "colab": {
          "base_uri": "https://localhost:8080/"
        },
        "id": "uJxFGOoqBfev",
        "outputId": "fc865d56-c4a7-4f80-cc08-eb4e62baf7d6"
      },
      "outputs": [
        {
          "name": "stdout",
          "output_type": "stream",
          "text": [
            "Welcome to the House Buying Assistant!\n",
            "For each question, I am going to offer you the available options.\n",
            "Ensure that your answer is short and clear, please!\n",
            "You can always answer QUIT to quit the conversation or ANY to include all possibilities.\n",
            "Do you want a house to buy or to rent?\n",
            "Options: rent, sale\n",
            "Enter your choice: I want a house to rent.\n",
            "What is your household's total monthly income?\n",
            "Enter your choice (1k - 999k euros): 3k aprox.\n",
            "How many bedrooms do you need?\n",
            "Enter your choice (1 - 5 bedrooms): 1\n",
            "How many bathrooms do you need?\n",
            "Enter your choice (1 - 3 bathrooms): 1\n",
            "What is your budget for the house?\n",
            "Enter your choice (1k - 999k euros): 2k\n",
            "How many square meters do you need?\n",
            "Enter your choice (30 - 200 meters): any\n",
            "On which floor would you like to live?\n",
            "Enter your choice (0 - 8): any\n",
            "Is it important for the property to have an elevator?\n",
            "Options: Yes, No\n",
            "Enter your choice: any\n",
            "Do you want to use the property for business purposes?\n",
            "Options: No, Yes\n",
            "Enter your choice: No\n",
            "Would you like the property to have a terrace?\n",
            "Options: No, Yes\n",
            "Enter your choice: Yes\n",
            "Which city or neighborhood would you prefer?\n",
            "Options: Barcelona, Santa Coloma de Gramenet, L'Hospitalet de Llobregat, Esplugues de Llobregat\n",
            "Enter your choice: I would like to live in Barcelona or Santa Coloma de Gramenet. \n",
            "\n",
            "Sorry, no suitable houses match your preferences. \n",
            "\n",
            "Thank you for using the House Buying Assistant. Goodbye!\n"
          ]
        }
      ],
      "source": [
        "user_4 = Chatbot(new_data)\n",
        "user_4.init()"
      ]
    },
    {
      "cell_type": "code",
      "execution_count": 55,
      "metadata": {
        "colab": {
          "base_uri": "https://localhost:8080/"
        },
        "id": "n_r45rIEK0P_",
        "outputId": "e48b58c4-40e4-474d-d45d-36305a70d595"
      },
      "outputs": [
        {
          "data": {
            "text/plain": [
              "{'type': {'rent'},\n",
              " 'income': '3k',\n",
              " 'bedrooms': '1',\n",
              " 'bathrooms': '1',\n",
              " 'price': '2k',\n",
              " 'square_meters': None,\n",
              " 'floor': None,\n",
              " 'elevator': None,\n",
              " 'commercial_use': {'No'},\n",
              " 'terrace': {'Yes'},\n",
              " 'location': {'Barcelona', 'Santa Coloma de Gramenet'}}"
            ]
          },
          "execution_count": 55,
          "metadata": {},
          "output_type": "execute_result"
        }
      ],
      "source": [
        "user_4.user_preferences"
      ]
    },
    {
      "cell_type": "markdown",
      "metadata": {
        "id": "D_egvLZUK6KW"
      },
      "source": [
        "Tal com es veu, tant Barcelona com Santa Coloma de Gramenet estan inclosos en la preferència de l'usuari. A més, el sistema pot extreure aquestes ciutats claus dins d'una oració ben formulada."
      ]
    },
    {
      "cell_type": "code",
      "execution_count": 56,
      "metadata": {
        "colab": {
          "base_uri": "https://localhost:8080/",
          "height": 297
        },
        "id": "Q4q-CaFCLpEp",
        "outputId": "a788d469-a99a-443d-9cb0-42727f2e9277"
      },
      "outputs": [
        {
          "name": "stdout",
          "output_type": "stream",
          "text": [
            "Welcome to the House Buying Assistant!\n",
            "For each question, I am going to offer you the available options.\n",
            "Ensure that your answer is short and clear, please!\n",
            "You can always answer QUIT to quit the conversation or ANY to include all possibilities.\n",
            "Do you want a house to buy or to rent?\n",
            "Options: rent, sale\n",
            "Enter your choice: hi\n",
            "Enter your choice: Rent\n",
            "Enter your choice: quit\n",
            "Thank you for using the House Buying Assistant. Goodbye!\n"
          ]
        },
        {
          "ename": "SystemExit",
          "evalue": "",
          "output_type": "error",
          "traceback": [
            "An exception has occurred, use %tb to see the full traceback.\n",
            "\u001b[0;31mSystemExit\u001b[0m\n"
          ]
        },
        {
          "name": "stderr",
          "output_type": "stream",
          "text": [
            "/usr/local/lib/python3.10/dist-packages/IPython/core/interactiveshell.py:3561: UserWarning: To exit: use 'exit', 'quit', or Ctrl-D.\n",
            "  warn(\"To exit: use 'exit', 'quit', or Ctrl-D.\", stacklevel=1)\n"
          ]
        }
      ],
      "source": [
        "user_4 = Chatbot(new_data)\n",
        "user_4.init()"
      ]
    },
    {
      "cell_type": "code",
      "execution_count": 63,
      "metadata": {
        "id": "rqVEHrlzuUTr"
      },
      "outputs": [],
      "source": [
        "#Problema 4: Quan l'usuari introduiex malament la resposta, no sap quin error ha comès.\n",
        "#Solució: Afegir condicions que identifica alguns possibles problemes i donar un avís.\n",
        "\n",
        "def process_multichoice_question(self, question, options):\n",
        "    print_question(question['question'], options)\n",
        "    while True:\n",
        "        answer = input(question['prompt'])\n",
        "        # Poder finalitzar el programa\n",
        "        if answer.lower()  == 'quit':\n",
        "            print(self.data['end_message'])\n",
        "            sys.exit()\n",
        "        # Opció de respondre any\n",
        "        elif answer.lower() == 'any':\n",
        "            self.any.append(question['answer_key'])\n",
        "            return None\n",
        "        elif len(extract_answers(answer, options)) > 0:\n",
        "            return extract_answers(answer, options)\n",
        "        else:\n",
        "            print('You are not giving any of the available options, please ensure that your answer does not have any mistake.')\n",
        "\n",
        "def process_numerical_question(self, question):\n",
        "    print_question(question['question'])\n",
        "    while True:\n",
        "        answer = input(question['prompt'])\n",
        "        range = extract_range(question['prompt'])\n",
        "        # Poder finalitzar el programa\n",
        "        if answer.lower() == 'quit':\n",
        "            print(self.data['end_message'])\n",
        "            sys.exit()\n",
        "        # Opció de respondre any\n",
        "        elif answer.lower() == 'any':\n",
        "            self.any.append(question['answer_key'])\n",
        "            return None\n",
        "        else:\n",
        "            tok_answer = preprocess_answer(answer)\n",
        "            value = get_numerical_value(tok_answer)\n",
        "            if value == '':\n",
        "                print('You are not introducing any numerical number, please ensure that your answer does not have any mistake.')\n",
        "            elif convert_into_num(value) in range:\n",
        "                return value\n",
        "            elif convert_into_num(value) not in range:\n",
        "                print('Your answer is out of range, please ensure that your answer does not have any mistake.')\n",
        "\n",
        "Chatbot.process_numerical_question = process_numerical_question\n",
        "Chatbot.process_multichoice_question = process_multichoice_question"
      ]
    },
    {
      "cell_type": "code",
      "execution_count": 65,
      "metadata": {
        "colab": {
          "base_uri": "https://localhost:8080/",
          "height": 471
        },
        "id": "B4Gbbw9KL0Vd",
        "outputId": "378ae8d8-4de2-452c-92da-24111db53ff8"
      },
      "outputs": [
        {
          "name": "stdout",
          "output_type": "stream",
          "text": [
            "Welcome to the House Buying Assistant!\n",
            "For each question, I am going to offer you the available options.\n",
            "Ensure that your answer is short and clear, please!\n",
            "You can always answer QUIT to quit the conversation or ANY to include all possibilities.\n",
            "Do you want a house to buy or to rent?\n",
            "Options: rent, sale\n",
            "Enter your choice: hi\n",
            "You are not giving any of the available options, please ensure that your answer does not have any mistake.\n",
            "Enter your choice: Rent\n",
            "You are not giving any of the available options, please ensure that your answer does not have any mistake.\n",
            "Enter your choice: rent\n",
            "What is your household's total monthly income?\n",
            "Enter your choice (1k - 999k euros): 1\n",
            "Your answer is out of range, please ensure that your answer does not have any mistake.\n",
            "Enter your choice (1k - 999k euros): 999\n",
            "Your answer is out of range, please ensure that your answer does not have any mistake.\n",
            "Enter your choice (1k - 999k euros): hi\n",
            "You are not introducing any numerical number, please ensure that your answer does not have any mistake.\n",
            "Enter your choice (1k - 999k euros): quit\n",
            "Thank you for using the House Buying Assistant. Goodbye!\n"
          ]
        },
        {
          "ename": "SystemExit",
          "evalue": "",
          "output_type": "error",
          "traceback": [
            "An exception has occurred, use %tb to see the full traceback.\n",
            "\u001b[0;31mSystemExit\u001b[0m\n"
          ]
        },
        {
          "name": "stderr",
          "output_type": "stream",
          "text": [
            "/usr/local/lib/python3.10/dist-packages/IPython/core/interactiveshell.py:3561: UserWarning: To exit: use 'exit', 'quit', or Ctrl-D.\n",
            "  warn(\"To exit: use 'exit', 'quit', or Ctrl-D.\", stacklevel=1)\n"
          ]
        }
      ],
      "source": [
        "user_4 = Chatbot(new_data)\n",
        "user_4.init()"
      ]
    },
    {
      "cell_type": "markdown",
      "metadata": {
        "id": "PWFHjJMnMX-B"
      },
      "source": [
        "Veiem que cada vegada que es repeteix la pregunta (perquè hi ha algun error), surt un mitssage d'avís, juntament amb una justificació de l'error."
      ]
    },
    {
      "cell_type": "code",
      "execution_count": 69,
      "metadata": {
        "colab": {
          "base_uri": "https://localhost:8080/"
        },
        "id": "A-Lbko8PMVxC",
        "outputId": "84708e93-a929-4abb-b5aa-f3170963cf20"
      },
      "outputs": [
        {
          "name": "stdout",
          "output_type": "stream",
          "text": [
            "Welcome to the House Buying Assistant!\n",
            "For each question, I am going to offer you the available options.\n",
            "Ensure that your answer is short and clear, please!\n",
            "You can always answer QUIT to quit the conversation or ANY to include all possibilities.\n",
            "Do you want a house to buy or to rent?\n",
            "Options: rent, sale\n",
            "Enter your choice: rent\n",
            "What is your household's total monthly income?\n",
            "Enter your choice (1k - 999k euros): 2k\n",
            "How many bedrooms do you need?\n",
            "Enter your choice (1 - 5 bedrooms): 1\n",
            "How many bathrooms do you need?\n",
            "Enter your choice (1 - 3 bathrooms): 1\n",
            "What is your budget for the house?\n",
            "Enter your choice (1k - 999k euros): 3k\n",
            "How many square meters do you need?\n",
            "Enter your choice (30 - 200 meters): any\n",
            "On which floor would you like to live?\n",
            "Enter your choice (0 - 8): any\n",
            "Is it important for the property to have an elevator?\n",
            "Options: Yes, No\n",
            "Enter your choice: AnY\n",
            "Do you want to use the property for business purposes?\n",
            "Options: No, Yes\n",
            "Enter your choice: any\n",
            "Would you like the property to have a terrace?\n",
            "Options: No, Yes\n",
            "Enter your choice: any\n",
            "Which city or neighborhood would you prefer?\n",
            "Options: Barcelona, Santa Coloma de Gramenet, L'Hospitalet de Llobregat, Esplugues de Llobregat\n",
            "Enter your choice: any\n",
            "\n",
            "Based on your preferences, the most suitable houses are:\n",
            "House ID: 5\n",
            "Type: rent\n",
            "Bedrooms: 1\n",
            "Bathrooms: 1\n",
            "Price: 650 euros\n",
            "Square Meters: 55 m^2\n",
            "Floor: 2 º\n",
            "Elevator: No\n",
            "Commercial Use: Yes\n",
            "Terrace: No\n",
            "Location: Santa Coloma de Gramenet\n",
            "\n",
            "House ID: 9\n",
            "Type: rent\n",
            "Bedrooms: 1\n",
            "Bathrooms: 1\n",
            "Price: 700 euros\n",
            "Square Meters: 55 m^2\n",
            "Floor: 3 º\n",
            "Elevator: No\n",
            "Commercial Use: No\n",
            "Terrace: Yes\n",
            "Location: Esplugues de Llobregat\n",
            "\n",
            "House ID: 17\n",
            "Type: rent\n",
            "Bedrooms: 1\n",
            "Bathrooms: 1\n",
            "Price: 450 euros\n",
            "Square Meters: 45 m^2\n",
            "Floor: 6 º\n",
            "Elevator: No\n",
            "Commercial Use: No\n",
            "Terrace: No\n",
            "Location: Barcelona\n",
            "\n",
            "House ID: 19\n",
            "Type: rent\n",
            "Bedrooms: 3\n",
            "Bathrooms: 1\n",
            "Price: 600 euros\n",
            "Square Meters: 75 m^2\n",
            "Floor: 1 º\n",
            "Elevator: No\n",
            "Commercial Use: Yes\n",
            "Terrace: Yes\n",
            "Location: Barcelona\n",
            "\n",
            "Thank you for using the House Buying Assistant. Goodbye!\n"
          ]
        }
      ],
      "source": [
        "auser_4 = Chatbot(new_data)\n",
        "user_4.init()"
      ]
    },
    {
      "cell_type": "code",
      "execution_count": 68,
      "metadata": {
        "colab": {
          "base_uri": "https://localhost:8080/"
        },
        "id": "ZCo7Q1DHNBAz",
        "outputId": "fee17406-7567-4e22-b16b-66657b5d02c8"
      },
      "outputs": [
        {
          "data": {
            "text/plain": [
              "{'type': {'rent'},\n",
              " 'income': '1k',\n",
              " 'bedrooms': '1',\n",
              " 'bathrooms': '1',\n",
              " 'price': '3k',\n",
              " 'square_meters': None,\n",
              " 'floor': None,\n",
              " 'elevator': None,\n",
              " 'commercial_use': None,\n",
              " 'terrace': None,\n",
              " 'location': None}"
            ]
          },
          "execution_count": 68,
          "metadata": {},
          "output_type": "execute_result"
        }
      ],
      "source": [
        "user_4.user_preferences"
      ]
    },
    {
      "cell_type": "markdown",
      "metadata": {
        "id": "798nhQlaPBgg"
      },
      "source": [
        "Viem que encara que el meu pressupost és 3k, el sistema només recomana cases que tenen un preu inferior al 0.35*2k. La restricció més restringida té més prioritat."
      ]
    },
    {
      "cell_type": "code",
      "execution_count": 70,
      "metadata": {
        "id": "qzRYkCv_uUTr"
      },
      "outputs": [],
      "source": [
        "#Problema 5: Hi ha dos preguntes per restringir el pressupost, pot cometre confusions.\n",
        "#Solució: En el cas que l'usuari doni un pressupost major al 35% dels seus ingressos mensuals...\n",
        "#...Preguntar si està segur o no.\n",
        "def convert_into_bool(string):\n",
        "    if string.lower() == 'yes':\n",
        "        return True\n",
        "    elif string.lower() == 'no':\n",
        "        return False\n",
        "\n",
        "def init(self):\n",
        "    self.user_preferences = {}\n",
        "    print(self.data['start_message'])\n",
        "    print('For each question, I am going to offer you the available options.')\n",
        "    print('Ensure that your answer is short and clear, please!')\n",
        "    print('You can always answer QUIT to quit the conversation or ANY to include all possibilities.')\n",
        "\n",
        "    for question in self.data['questions']:\n",
        "        answer_key = question['answer_key']\n",
        "        if (answer_key != 'income'):\n",
        "            possible_options = list(self.available_options.get(answer_key))\n",
        "\n",
        "        if question['type'] == 'numerical':\n",
        "            if (answer_key != 'income') or \\\n",
        "            (answer_key == 'income' and self.user_preferences['type'] != 'sale' ):\n",
        "                answer = self.process_numerical_question(question)\n",
        "\n",
        "            if answer_key == 'price' and self.user_preferences['type'] != 'sale' and 'income' not in self.any:\n",
        "                rich = False\n",
        "                while not rich and convert_into_num(answer) > convert_into_num(self.user_preferences['income'])*0.35:\n",
        "                    print('We recommend that you do not spend more than 35% of your monthly income on rent.')\n",
        "                    rich = convert_into_bool(input('Are you sure you can keep the same budget? (Enter Yes or No)'))\n",
        "                    if rich == None:\n",
        "                        rich = False\n",
        "                        print('You are not giving any of the available options, please ensure that your answer does not have any mistake.')\n",
        "                    elif not rich:\n",
        "                        answer = self.process_numerical_question(question)\n",
        "                    else:\n",
        "                        self.filters['price'] = lambda answer, house: convert_into_num(house) <= convert_into_num(answer)\n",
        "\n",
        "        else:\n",
        "            answer = self.process_multichoice_question(question, possible_options)\n",
        "\n",
        "        self.user_preferences[answer_key] = answer\n",
        "\n",
        "    self.find_suitable_houses()\n",
        "    print_suitable_houses(self.suitable_houses)\n",
        "\n",
        "    print(self.data['end_message'])\n",
        "\n",
        "Chatbot.init = init\n"
      ]
    },
    {
      "cell_type": "code",
      "execution_count": 71,
      "metadata": {
        "colab": {
          "base_uri": "https://localhost:8080/"
        },
        "id": "E0VdLlFKuUTs",
        "outputId": "d6f944d4-08fb-4145-a58a-3c4e3fa1445a"
      },
      "outputs": [
        {
          "name": "stdout",
          "output_type": "stream",
          "text": [
            "Welcome to the House Buying Assistant!\n",
            "For each question, I am going to offer you the available options.\n",
            "Ensure that your answer is short and clear, please!\n",
            "You can always answer QUIT to quit the conversation or ANY to include all possibilities.\n",
            "Do you want a house to buy or to rent?\n",
            "Options: rent, sale\n",
            "Enter your choice: any\n",
            "What is your household's total monthly income?\n",
            "Enter your choice (1k - 999k euros): 2k\n",
            "How many bedrooms do you need?\n",
            "Enter your choice (1 - 5 bedrooms): 1\n",
            "How many bathrooms do you need?\n",
            "Enter your choice (1 - 3 bathrooms): 1\n",
            "What is your budget for the house?\n",
            "Enter your choice (1k - 999k euros): 3k\n",
            "We recommend that you do not spend more than 35% of your monthly income on rent.\n",
            "Are you sure you can keep the same budget? (Enter Yes or No)No\n",
            "What is your budget for the house?\n",
            "Enter your choice (1k - 999k euros): 5k\n",
            "We recommend that you do not spend more than 35% of your monthly income on rent.\n",
            "Are you sure you can keep the same budget? (Enter Yes or No)Yes\n",
            "How many square meters do you need?\n",
            "Enter your choice (30 - 200 meters): any\n",
            "On which floor would you like to live?\n",
            "Enter your choice (0 - 8): any\n",
            "Is it important for the property to have an elevator?\n",
            "Options: Yes, No\n",
            "Enter your choice: any\n",
            "Do you want to use the property for business purposes?\n",
            "Options: No, Yes\n",
            "Enter your choice: any\n",
            "Would you like the property to have a terrace?\n",
            "Options: No, Yes\n",
            "Enter your choice: any\n",
            "Which city or neighborhood would you prefer?\n",
            "Options: Barcelona, Santa Coloma de Gramenet, L'Hospitalet de Llobregat, Esplugues de Llobregat\n",
            "Enter your choice: any\n",
            "\n",
            "Based on your preferences, the most suitable houses are:\n",
            "House ID: 1\n",
            "Type: rent\n",
            "Bedrooms: 3\n",
            "Bathrooms: 2\n",
            "Price: 1200 euros\n",
            "Square Meters: 100 m^2\n",
            "Floor: 3 º\n",
            "Elevator: Yes\n",
            "Commercial Use: No\n",
            "Terrace: No\n",
            "Location: Santa Coloma de Gramenet\n",
            "\n",
            "House ID: 3\n",
            "Type: rent\n",
            "Bedrooms: 2\n",
            "Bathrooms: 1\n",
            "Price: 800 euros\n",
            "Square Meters: 80 m^2\n",
            "Floor: 8 º\n",
            "Elevator: Yes\n",
            "Commercial Use: No\n",
            "Terrace: No\n",
            "Location: Santa Coloma de Gramenet\n",
            "\n",
            "House ID: 5\n",
            "Type: rent\n",
            "Bedrooms: 1\n",
            "Bathrooms: 1\n",
            "Price: 650 euros\n",
            "Square Meters: 55 m^2\n",
            "Floor: 2 º\n",
            "Elevator: No\n",
            "Commercial Use: Yes\n",
            "Terrace: No\n",
            "Location: Santa Coloma de Gramenet\n",
            "\n",
            "House ID: 7\n",
            "Type: rent\n",
            "Bedrooms: 5\n",
            "Bathrooms: 2\n",
            "Price: 2000 euros\n",
            "Square Meters: 150 m^2\n",
            "Floor: 2 º\n",
            "Elevator: Yes\n",
            "Commercial Use: No\n",
            "Terrace: Yes\n",
            "Location: Santa Coloma de Gramenet\n",
            "\n",
            "House ID: 9\n",
            "Type: rent\n",
            "Bedrooms: 1\n",
            "Bathrooms: 1\n",
            "Price: 700 euros\n",
            "Square Meters: 55 m^2\n",
            "Floor: 3 º\n",
            "Elevator: No\n",
            "Commercial Use: No\n",
            "Terrace: Yes\n",
            "Location: Esplugues de Llobregat\n",
            "\n",
            "House ID: 11\n",
            "Type: rent\n",
            "Bedrooms: 3\n",
            "Bathrooms: 1\n",
            "Price: 1100 euros\n",
            "Square Meters: 60 m^2\n",
            "Floor: 2 º\n",
            "Elevator: No\n",
            "Commercial Use: No\n",
            "Terrace: Yes\n",
            "Location: Esplugues de Llobregat\n",
            "\n",
            "House ID: 14\n",
            "Type: rent\n",
            "Bedrooms: 3\n",
            "Bathrooms: 1\n",
            "Price: 1500 euros\n",
            "Square Meters: 100 m^2\n",
            "Floor: 3 º\n",
            "Elevator: No\n",
            "Commercial Use: No\n",
            "Terrace: No\n",
            "Location: L'Hospitalet de Llobregat\n",
            "\n",
            "House ID: 17\n",
            "Type: rent\n",
            "Bedrooms: 1\n",
            "Bathrooms: 1\n",
            "Price: 450 euros\n",
            "Square Meters: 45 m^2\n",
            "Floor: 6 º\n",
            "Elevator: No\n",
            "Commercial Use: No\n",
            "Terrace: No\n",
            "Location: Barcelona\n",
            "\n",
            "House ID: 18\n",
            "Type: rent\n",
            "Bedrooms: 1\n",
            "Bathrooms: 1\n",
            "Price: 850 euros\n",
            "Square Meters: 50 m^2\n",
            "Floor: 4 º\n",
            "Elevator: Yes\n",
            "Commercial Use: No\n",
            "Terrace: Yes\n",
            "Location: Barcelona\n",
            "\n",
            "House ID: 19\n",
            "Type: rent\n",
            "Bedrooms: 3\n",
            "Bathrooms: 1\n",
            "Price: 600 euros\n",
            "Square Meters: 75 m^2\n",
            "Floor: 1 º\n",
            "Elevator: No\n",
            "Commercial Use: Yes\n",
            "Terrace: Yes\n",
            "Location: Barcelona\n",
            "\n",
            "House ID: 22\n",
            "Type: rent\n",
            "Bedrooms: 4\n",
            "Bathrooms: 2\n",
            "Price: 3000 euros\n",
            "Square Meters: 100 m^2\n",
            "Floor: 0 º\n",
            "Elevator: No\n",
            "Commercial Use: Yes\n",
            "Terrace: No\n",
            "Location: Barcelona\n",
            "\n",
            "Thank you for using the House Buying Assistant. Goodbye!\n"
          ]
        }
      ],
      "source": [
        "user_4 = Chatbot(new_data)\n",
        "user_4.init()"
      ]
    },
    {
      "cell_type": "code",
      "execution_count": 72,
      "metadata": {
        "colab": {
          "base_uri": "https://localhost:8080/"
        },
        "id": "DvZHFELnuUTs",
        "outputId": "838c0b2d-8482-405b-8a49-c988ee937bb0"
      },
      "outputs": [
        {
          "data": {
            "text/plain": [
              "{'type': None,\n",
              " 'income': '2k',\n",
              " 'bedrooms': '1',\n",
              " 'bathrooms': '1',\n",
              " 'price': '5k',\n",
              " 'square_meters': None,\n",
              " 'floor': None,\n",
              " 'elevator': None,\n",
              " 'commercial_use': None,\n",
              " 'terrace': None,\n",
              " 'location': None}"
            ]
          },
          "execution_count": 72,
          "metadata": {},
          "output_type": "execute_result"
        }
      ],
      "source": [
        "user_4.user_preferences"
      ]
    },
    {
      "cell_type": "markdown",
      "metadata": {
        "id": "eDeAM6OEP0_R"
      },
      "source": [
        "Veiem que ara quan hi existeix una ambigüitat, el sistema pregunta a l'usuari per assegurar-se si vol que la resposta del pressupost otorgui la prioritat. Durant la conservació anterior, hem respòs que si i veiem que el sistema ha pogut ignorar la restricció dels ingressos mensuals."
      ]
    },
    {
      "cell_type": "markdown",
      "metadata": {
        "id": "4FaXlfF2rraz"
      },
      "source": [
        "<h1><a name=\"section-four\"> 4. Lliurable </a></h1>\n",
        "\n",
        "Heu d'entregar un document PDF de com a **màxim 10 pàgines** que incloga els resultats de tots els exercicis així com una explicació de cadascun dels resultats i de la modificació que heu fet. L'estructura del document és:\n",
        "\n",
        "1. Introducció.\n",
        "2. Resultats (amb raonament).\n",
        "3. Conversation flow del vostre sistema final.\n",
        "4. Conclusions.\n",
        "\n",
        "No cal que afegiu el vostre codi al document, podeu entregar el *notebook* juntament amb el document.\n"
      ]
    },
    {
      "cell_type": "markdown",
      "metadata": {
        "id": "Q9LLmfizKjZq"
      },
      "source": [
        "Conversation flow: graf de preguntes i opcions resposta (transparències teoria)"
      ]
    },
    {
      "cell_type": "markdown",
      "metadata": {
        "id": "fXFq7TmHoN-r"
      },
      "source": [
        "---"
      ]
    }
  ],
  "metadata": {
    "colab": {
      "provenance": []
    },
    "kernelspec": {
      "display_name": ".venv",
      "language": "python",
      "name": "python3"
    },
    "language_info": {
      "codemirror_mode": {
        "name": "ipython",
        "version": 3
      },
      "file_extension": ".py",
      "mimetype": "text/x-python",
      "name": "python",
      "nbconvert_exporter": "python",
      "pygments_lexer": "ipython3",
      "version": "3.11.4"
    }
  },
  "nbformat": 4,
  "nbformat_minor": 0
}
